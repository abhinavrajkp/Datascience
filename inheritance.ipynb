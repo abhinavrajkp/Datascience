{
 "cells": [
  {
   "cell_type": "markdown",
   "id": "6b82ea2e-1718-4688-bf35-9984ebe4b0fc",
   "metadata": {},
   "source": [
    "## Inheritance in OOPS"
   ]
  },
  {
   "cell_type": "code",
   "execution_count": 11,
   "id": "10be9910-e635-468d-a66e-7da91b810d0e",
   "metadata": {},
   "outputs": [],
   "source": [
    "class parent:\n",
    "    def test_parent(self):\n",
    "        print(\"this is my parent class\")\n",
    "\n",
    "class child(parent):\n",
    "    pass\n",
    "    "
   ]
  },
  {
   "cell_type": "code",
   "execution_count": 12,
   "id": "a4bcdf53-afbb-4be1-ae33-335608dd1092",
   "metadata": {},
   "outputs": [],
   "source": [
    "child_obj = child()"
   ]
  },
  {
   "cell_type": "code",
   "execution_count": 13,
   "id": "a019ac11-7c67-4540-b57b-f3dee385231d",
   "metadata": {},
   "outputs": [
    {
     "name": "stdout",
     "output_type": "stream",
     "text": [
      "this is my parent class\n"
     ]
    }
   ],
   "source": [
    "child_obj.test_parent()"
   ]
  },
  {
   "cell_type": "code",
   "execution_count": 14,
   "id": "69a38dd7-123a-4c6f-8c60-3faf161ca3a2",
   "metadata": {},
   "outputs": [],
   "source": [
    "class class1:\n",
    "    def test_class1(self):\n",
    "        print(\"this is my class 1\")"
   ]
  },
  {
   "cell_type": "code",
   "execution_count": 15,
   "id": "f1276311-a79a-420d-9d47-82cedea37fc2",
   "metadata": {},
   "outputs": [],
   "source": [
    "class class2(class1):\n",
    "    def test_class2(self):\n",
    "        print(\"this is my class 2\")"
   ]
  },
  {
   "cell_type": "code",
   "execution_count": 16,
   "id": "a7f1da98-6402-469d-8c3d-c673b55dc548",
   "metadata": {},
   "outputs": [],
   "source": [
    "class class3(class2):\n",
    "    def test_class3(self):\n",
    "        print(\"this is my class 3\")   "
   ]
  },
  {
   "cell_type": "markdown",
   "id": "84bc404e-ff75-418c-b5b8-47d1e23e4293",
   "metadata": {},
   "source": [
    "#### this is called multi label inheritance"
   ]
  },
  {
   "cell_type": "code",
   "execution_count": 17,
   "id": "fd53abde-46a0-48da-8a0d-fd448fb9eab0",
   "metadata": {},
   "outputs": [],
   "source": [
    "obj_class3 = class3()"
   ]
  },
  {
   "cell_type": "code",
   "execution_count": 18,
   "id": "8bd6872a-c46f-412b-b1b3-127e1be9ebfb",
   "metadata": {},
   "outputs": [
    {
     "name": "stdout",
     "output_type": "stream",
     "text": [
      "this is my class 1\n"
     ]
    }
   ],
   "source": [
    "obj_class3.test_class1()"
   ]
  },
  {
   "cell_type": "code",
   "execution_count": 19,
   "id": "1a46f9c7-676b-45c9-abc6-a7376aa14c33",
   "metadata": {},
   "outputs": [
    {
     "name": "stdout",
     "output_type": "stream",
     "text": [
      "this is my class 2\n"
     ]
    }
   ],
   "source": [
    "obj_class3.test_class2()"
   ]
  },
  {
   "cell_type": "code",
   "execution_count": 20,
   "id": "bbea1594-b880-4a61-8f73-61981af2a9f8",
   "metadata": {},
   "outputs": [
    {
     "name": "stdout",
     "output_type": "stream",
     "text": [
      "this is my class 3\n"
     ]
    }
   ],
   "source": [
    "obj_class3.test_class3()"
   ]
  },
  {
   "cell_type": "code",
   "execution_count": 21,
   "id": "9e7a037c-e0bf-4641-8cb8-f100df2bf1df",
   "metadata": {},
   "outputs": [],
   "source": [
    "obj_class2 = class2()"
   ]
  },
  {
   "cell_type": "code",
   "execution_count": 22,
   "id": "8c7065d0-1cb2-4d79-bdc7-b20eb492cce8",
   "metadata": {},
   "outputs": [
    {
     "ename": "AttributeError",
     "evalue": "'class2' object has no attribute 'test_class3'",
     "output_type": "error",
     "traceback": [
      "\u001b[0;31m---------------------------------------------------------------------------\u001b[0m",
      "\u001b[0;31mAttributeError\u001b[0m                            Traceback (most recent call last)",
      "Cell \u001b[0;32mIn[22], line 1\u001b[0m\n\u001b[0;32m----> 1\u001b[0m \u001b[43mobj_class2\u001b[49m\u001b[38;5;241;43m.\u001b[39;49m\u001b[43mtest_class3\u001b[49m()  \u001b[38;5;66;03m# class 2 has no connection to class3\u001b[39;00m\n",
      "\u001b[0;31mAttributeError\u001b[0m: 'class2' object has no attribute 'test_class3'"
     ]
    }
   ],
   "source": [
    "obj_class2.test_class3()  # class 2 has no connection to class3"
   ]
  },
  {
   "cell_type": "code",
   "execution_count": 23,
   "id": "6e8dfca2-3d45-4b52-9842-605b1b2b6a0d",
   "metadata": {},
   "outputs": [
    {
     "name": "stdout",
     "output_type": "stream",
     "text": [
      "this is my class 1\n"
     ]
    }
   ],
   "source": [
    "obj_class2.test_class1()"
   ]
  },
  {
   "cell_type": "markdown",
   "id": "fd507823-6632-444a-ae4d-bc2843b99977",
   "metadata": {},
   "source": [
    "### Multiple inheritance"
   ]
  },
  {
   "cell_type": "code",
   "execution_count": 24,
   "id": "2c3d4b33-bf49-48f1-9bed-9f22a7648fdb",
   "metadata": {},
   "outputs": [],
   "source": [
    "class class1:\n",
    "    \n",
    "    def test_class1(self):\n",
    "        print(\"this is my class 1 -----\")"
   ]
  },
  {
   "cell_type": "code",
   "execution_count": 25,
   "id": "1a0b5128-aca1-4589-a03e-a74868a82036",
   "metadata": {},
   "outputs": [],
   "source": [
    "class class2:\n",
    "    \n",
    "    def test_class2(self):\n",
    "        print(\"this is my class 2 ------\")"
   ]
  },
  {
   "cell_type": "code",
   "execution_count": 26,
   "id": "ea630df8-72c2-4987-9c0d-385ba613223b",
   "metadata": {},
   "outputs": [],
   "source": [
    "class class3(class1, class2):\n",
    "    \n",
    "    pass"
   ]
  },
  {
   "cell_type": "code",
   "execution_count": 27,
   "id": "a196cd61-c714-40c6-99f9-d0ac910ae9d3",
   "metadata": {},
   "outputs": [],
   "source": [
    "obj_class3 = class3()"
   ]
  },
  {
   "cell_type": "code",
   "execution_count": 28,
   "id": "22efa83c-373f-4cc4-86cd-82b51d4f3095",
   "metadata": {},
   "outputs": [
    {
     "name": "stdout",
     "output_type": "stream",
     "text": [
      "this is my class 2 ------\n"
     ]
    }
   ],
   "source": [
    "obj_class3.test_class2()"
   ]
  },
  {
   "cell_type": "code",
   "execution_count": 10,
   "id": "664e1a08-ab89-415b-b120-da698836c358",
   "metadata": {},
   "outputs": [
    {
     "name": "stdout",
     "output_type": "stream",
     "text": [
      "this is my class 1 -----\n"
     ]
    }
   ],
   "source": [
    "obj_class3.test_class1()"
   ]
  },
  {
   "cell_type": "code",
   "execution_count": null,
   "id": "9203035f-24d7-4740-9ef5-189a5f0f7b77",
   "metadata": {},
   "outputs": [],
   "source": []
  }
 ],
 "metadata": {
  "kernelspec": {
   "display_name": "Python 3 (ipykernel)",
   "language": "python",
   "name": "python3"
  },
  "language_info": {
   "codemirror_mode": {
    "name": "ipython",
    "version": 3
   },
   "file_extension": ".py",
   "mimetype": "text/x-python",
   "name": "python",
   "nbconvert_exporter": "python",
   "pygments_lexer": "ipython3",
   "version": "3.8.2"
  }
 },
 "nbformat": 4,
 "nbformat_minor": 5
}
