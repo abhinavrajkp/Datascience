{
 "cells": [
  {
   "cell_type": "markdown",
   "id": "64635208-69c3-4ee9-924f-2a4f5fe89066",
   "metadata": {},
   "source": [
    "## Encapsulation"
   ]
  },
  {
   "cell_type": "code",
   "execution_count": 1,
   "id": "f81a17af-d11f-4673-a3f2-2b234d789ab3",
   "metadata": {},
   "outputs": [],
   "source": [
    "class test:\n",
    "    def __init__(self, a,b):\n",
    "        self.a = a\n",
    "        self.b = b"
   ]
  },
  {
   "cell_type": "code",
   "execution_count": 2,
   "id": "cebf853a-9789-484f-abc1-4ce4bfb2f38f",
   "metadata": {},
   "outputs": [
    {
     "ename": "TypeError",
     "evalue": "__init__() missing 2 required positional arguments: 'a' and 'b'",
     "output_type": "error",
     "traceback": [
      "\u001b[0;31m---------------------------------------------------------------------------\u001b[0m",
      "\u001b[0;31mTypeError\u001b[0m                                 Traceback (most recent call last)",
      "Cell \u001b[0;32mIn[2], line 1\u001b[0m\n\u001b[0;32m----> 1\u001b[0m t \u001b[38;5;241m=\u001b[39m \u001b[43mtest\u001b[49m\u001b[43m(\u001b[49m\u001b[43m)\u001b[49m\n",
      "\u001b[0;31mTypeError\u001b[0m: __init__() missing 2 required positional arguments: 'a' and 'b'"
     ]
    }
   ],
   "source": [
    "t = test()"
   ]
  },
  {
   "cell_type": "code",
   "execution_count": 3,
   "id": "df140ea8-7fea-453e-90e2-61e493b54b6a",
   "metadata": {},
   "outputs": [],
   "source": [
    "t = test(11,23)"
   ]
  },
  {
   "cell_type": "code",
   "execution_count": 4,
   "id": "b5774ecc-70b4-4ed2-bf48-dce481ba7da6",
   "metadata": {},
   "outputs": [
    {
     "data": {
      "text/plain": [
       "11"
      ]
     },
     "execution_count": 4,
     "metadata": {},
     "output_type": "execute_result"
    }
   ],
   "source": [
    "t.a"
   ]
  },
  {
   "cell_type": "code",
   "execution_count": 5,
   "id": "43effa1b-7f87-4c5b-aec6-b2ff07946ffe",
   "metadata": {},
   "outputs": [
    {
     "data": {
      "text/plain": [
       "23"
      ]
     },
     "execution_count": 5,
     "metadata": {},
     "output_type": "execute_result"
    }
   ],
   "source": [
    "t.b"
   ]
  },
  {
   "cell_type": "code",
   "execution_count": 6,
   "id": "3d85272a-c988-479f-8988-5790411a33a6",
   "metadata": {},
   "outputs": [
    {
     "data": {
      "text/plain": [
       "34"
      ]
     },
     "execution_count": 6,
     "metadata": {},
     "output_type": "execute_result"
    }
   ],
   "source": [
    "t.a = 34\n",
    "t.a"
   ]
  },
  {
   "cell_type": "code",
   "execution_count": 8,
   "id": "ca83e883-b3d6-45bf-8a1f-0834b3762154",
   "metadata": {},
   "outputs": [],
   "source": [
    "# anyone can access and change value"
   ]
  },
  {
   "cell_type": "code",
   "execution_count": 10,
   "id": "733fd06c-acd9-473f-864f-562fb22f872f",
   "metadata": {},
   "outputs": [],
   "source": [
    "# encapsulation prevent this direct access , en capsule ==> pack data into a capsule :)"
   ]
  },
  {
   "cell_type": "code",
   "execution_count": 11,
   "id": "a2d529f3-d53e-4138-8087-81c7cbf6f183",
   "metadata": {},
   "outputs": [],
   "source": [
    "class car:\n",
    "    def __init__(self, year, make, model,speed): # constructor ==> can take valuye form user\n",
    "        self.__year = year\n",
    "        self.__make = make\n",
    "        self.__model = model\n",
    "        self.__speed = speed"
   ]
  },
  {
   "cell_type": "code",
   "execution_count": 12,
   "id": "3621a6f6-b6b9-4a94-9d2f-63e5c005b70a",
   "metadata": {},
   "outputs": [],
   "source": [
    "obj_car = car(2021, \"toyota\", \"innova\", 12)"
   ]
  },
  {
   "cell_type": "code",
   "execution_count": 15,
   "id": "25afd829-4f3d-47bc-9277-7f9754461d79",
   "metadata": {},
   "outputs": [
    {
     "ename": "AttributeError",
     "evalue": "'car' object has no attribute '__year'",
     "output_type": "error",
     "traceback": [
      "\u001b[0;31m---------------------------------------------------------------------------\u001b[0m",
      "\u001b[0;31mAttributeError\u001b[0m                            Traceback (most recent call last)",
      "Cell \u001b[0;32mIn[15], line 1\u001b[0m\n\u001b[0;32m----> 1\u001b[0m \u001b[43mobj_car\u001b[49m\u001b[38;5;241;43m.\u001b[39;49m\u001b[43m__year\u001b[49m\n",
      "\u001b[0;31mAttributeError\u001b[0m: 'car' object has no attribute '__year'"
     ]
    }
   ],
   "source": [
    "obj_car.__year"
   ]
  },
  {
   "cell_type": "code",
   "execution_count": 16,
   "id": "30973249-b036-4cbe-b9fa-2f01afa53058",
   "metadata": {},
   "outputs": [
    {
     "data": {
      "text/plain": [
       "'innova'"
      ]
     },
     "execution_count": 16,
     "metadata": {},
     "output_type": "execute_result"
    }
   ],
   "source": [
    "obj_car._car__model"
   ]
  },
  {
   "cell_type": "code",
   "execution_count": 17,
   "id": "a8599ccd-10ba-4a1e-8e5c-7d7a70c877cc",
   "metadata": {},
   "outputs": [],
   "source": [
    "obj_car._car__model = \"Ford\""
   ]
  },
  {
   "cell_type": "code",
   "execution_count": 18,
   "id": "30c34522-a6e5-430e-a4b1-b1a595a1bb4b",
   "metadata": {},
   "outputs": [
    {
     "data": {
      "text/plain": [
       "'Ford'"
      ]
     },
     "execution_count": 18,
     "metadata": {},
     "output_type": "execute_result"
    }
   ],
   "source": [
    "obj_car._car__model"
   ]
  },
  {
   "cell_type": "code",
   "execution_count": 33,
   "id": "faecee42-bbe7-4e1d-99d7-65ae6b49bf02",
   "metadata": {},
   "outputs": [],
   "source": [
    "class car:\n",
    "    def __init__(self, year, make, model,speed): # constructor ==> can take valuye form user  \n",
    "        self.__year = year     #user has no access to this function because of the usage of__\n",
    "        self.__make = make  \n",
    "        self.__model = model\n",
    "        self.__speed = speed\n",
    "        \n",
    "    def set_speed(self, speed):   # user can access this function to update speed\n",
    "        self.__speed = 0 if speed < 0 else speed\n",
    "        \n",
    "    def get_speed(self): # user can use this function to know the updated speed\n",
    "        return self.__speed"
   ]
  },
  {
   "cell_type": "code",
   "execution_count": 34,
   "id": "b98e48d2-c662-4965-9b72-df40ebdb41f6",
   "metadata": {},
   "outputs": [],
   "source": [
    "obj2_car = car( 2020, \"TATA\", \"Nano\", 30)"
   ]
  },
  {
   "cell_type": "code",
   "execution_count": 35,
   "id": "c4c3406f-47b4-4074-9515-cd572d5c51dc",
   "metadata": {},
   "outputs": [],
   "source": [
    "obj2_car.set_speed = 25"
   ]
  },
  {
   "cell_type": "code",
   "execution_count": 38,
   "id": "b2917f5b-a7a3-4aab-8754-9d5436b9d4fb",
   "metadata": {},
   "outputs": [
    {
     "data": {
      "text/plain": [
       "30"
      ]
     },
     "execution_count": 38,
     "metadata": {},
     "output_type": "execute_result"
    }
   ],
   "source": [
    "obj2_car.get_speed()"
   ]
  },
  {
   "cell_type": "code",
   "execution_count": 40,
   "id": "6c4854b5-1914-4795-8089-1cd6d6b67b9e",
   "metadata": {},
   "outputs": [],
   "source": [
    "class bank_account:\n",
    "    \n",
    "    def __init__(self, balance):\n",
    "        self.__balance = balance\n",
    "        \n",
    "    def deposit(self, amount):\n",
    "        self.__balance = self.__balance + amount\n",
    "        \n",
    "    def withdraw(self, amount):\n",
    "        if self.__balance >= amount:\n",
    "            self.__balance = self.__balance - amount\n",
    "            return True\n",
    "        else:\n",
    "            return False\n",
    "        \n",
    "    def get_balance(self):\n",
    "        return self.__balance"
   ]
  },
  {
   "cell_type": "code",
   "execution_count": 41,
   "id": "a8350fa3-75a5-475e-8d23-bd8ec37e0634",
   "metadata": {},
   "outputs": [],
   "source": [
    "obj_bank_account = bank_account(1000)"
   ]
  },
  {
   "cell_type": "code",
   "execution_count": 43,
   "id": "8630057f-1f2c-428c-8ea4-84eb1a8b8fc8",
   "metadata": {},
   "outputs": [
    {
     "data": {
      "text/plain": [
       "1000"
      ]
     },
     "execution_count": 43,
     "metadata": {},
     "output_type": "execute_result"
    }
   ],
   "source": [
    "obj_bank_account.get_balance()"
   ]
  },
  {
   "cell_type": "code",
   "execution_count": 44,
   "id": "636f1b6e-5a6b-4448-85c1-bea7faa52ae1",
   "metadata": {},
   "outputs": [],
   "source": [
    "obj_bank_account.deposit(34422)"
   ]
  },
  {
   "cell_type": "code",
   "execution_count": 45,
   "id": "16f56d56-1d6a-4822-aa36-375a238d3f53",
   "metadata": {},
   "outputs": [
    {
     "data": {
      "text/plain": [
       "35422"
      ]
     },
     "execution_count": 45,
     "metadata": {},
     "output_type": "execute_result"
    }
   ],
   "source": [
    "obj_bank_account.get_balance()"
   ]
  },
  {
   "cell_type": "code",
   "execution_count": 46,
   "id": "37fcc761-5911-417c-be6a-e9a0a3c3613f",
   "metadata": {},
   "outputs": [
    {
     "data": {
      "text/plain": [
       "True"
      ]
     },
     "execution_count": 46,
     "metadata": {},
     "output_type": "execute_result"
    }
   ],
   "source": [
    "obj_bank_account.withdraw(25422)"
   ]
  },
  {
   "cell_type": "code",
   "execution_count": 47,
   "id": "5b5cf890-316d-4086-8dab-7c87d4b94ef3",
   "metadata": {},
   "outputs": [
    {
     "data": {
      "text/plain": [
       "10000"
      ]
     },
     "execution_count": 47,
     "metadata": {},
     "output_type": "execute_result"
    }
   ],
   "source": [
    "obj_bank_account.get_balance()"
   ]
  },
  {
   "cell_type": "code",
   "execution_count": 48,
   "id": "95aab06c-9f63-4de9-bb75-5a3511780fe3",
   "metadata": {},
   "outputs": [
    {
     "data": {
      "text/plain": [
       "True"
      ]
     },
     "execution_count": 48,
     "metadata": {},
     "output_type": "execute_result"
    }
   ],
   "source": [
    "obj_bank_account.withdraw(9383)"
   ]
  },
  {
   "cell_type": "code",
   "execution_count": 49,
   "id": "ed9d99f1-b4d1-4cc4-a0f0-159b70f4d90e",
   "metadata": {},
   "outputs": [
    {
     "data": {
      "text/plain": [
       "False"
      ]
     },
     "execution_count": 49,
     "metadata": {},
     "output_type": "execute_result"
    }
   ],
   "source": [
    "obj_bank_account.withdraw(3432)"
   ]
  },
  {
   "cell_type": "code",
   "execution_count": 50,
   "id": "ea7b2ba1-4e13-4661-91be-fbe07bade15e",
   "metadata": {},
   "outputs": [
    {
     "data": {
      "text/plain": [
       "617"
      ]
     },
     "execution_count": 50,
     "metadata": {},
     "output_type": "execute_result"
    }
   ],
   "source": [
    "obj_bank_account.get_balance()"
   ]
  },
  {
   "cell_type": "code",
   "execution_count": null,
   "id": "3f35a20a-f965-4f23-b4e0-f99c601d7b47",
   "metadata": {},
   "outputs": [],
   "source": []
  }
 ],
 "metadata": {
  "kernelspec": {
   "display_name": "Python 3 (ipykernel)",
   "language": "python",
   "name": "python3"
  },
  "language_info": {
   "codemirror_mode": {
    "name": "ipython",
    "version": 3
   },
   "file_extension": ".py",
   "mimetype": "text/x-python",
   "name": "python",
   "nbconvert_exporter": "python",
   "pygments_lexer": "ipython3",
   "version": "3.8.2"
  }
 },
 "nbformat": 4,
 "nbformat_minor": 5
}
