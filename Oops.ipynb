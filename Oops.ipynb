{
 "cells": [
  {
   "cell_type": "markdown",
   "id": "c6433c96-476b-457d-b9ce-0b462a5edc89",
   "metadata": {},
   "source": [
    "## Oops\n",
    "### Object Oriented Programming System"
   ]
  },
  {
   "cell_type": "code",
   "execution_count": 1,
   "id": "016c0d45-71b5-468b-87a8-c3a6bc652476",
   "metadata": {},
   "outputs": [],
   "source": [
    "a=1"
   ]
  },
  {
   "cell_type": "code",
   "execution_count": 3,
   "id": "330fffa6-6914-42e6-8b56-1d9ed34248f2",
   "metadata": {},
   "outputs": [
    {
     "name": "stdout",
     "output_type": "stream",
     "text": [
      "<class 'int'>\n"
     ]
    }
   ],
   "source": [
    "print(type(a))"
   ]
  },
  {
   "cell_type": "code",
   "execution_count": 5,
   "id": "5421877a-7d66-41a0-a32a-36d8da4b49ad",
   "metadata": {},
   "outputs": [
    {
     "name": "stdout",
     "output_type": "stream",
     "text": [
      "<class 'str'>\n"
     ]
    }
   ],
   "source": [
    "print(type(\"Abhinav\"))"
   ]
  },
  {
   "cell_type": "code",
   "execution_count": 4,
   "id": "18f12c62-7f66-4066-ab14-e95910113866",
   "metadata": {},
   "outputs": [],
   "source": [
    "# waht is this class ???"
   ]
  },
  {
   "cell_type": "code",
   "execution_count": 10,
   "id": "e76ddef0-3f21-4815-821f-bafdf63c41f8",
   "metadata": {},
   "outputs": [],
   "source": [
    "class pwskill:\n",
    "    def welcome_msg(self):\n",
    "        print(\"Welcome to Pwskills\")"
   ]
  },
  {
   "cell_type": "code",
   "execution_count": 14,
   "id": "a9acf627-bd23-4ded-8c68-a107c1c704b6",
   "metadata": {},
   "outputs": [
    {
     "name": "stdout",
     "output_type": "stream",
     "text": [
      "Welcome to Pwskills\n"
     ]
    }
   ],
   "source": [
    "rohan = pwskill() # rohan is an instance of the class pwskill\n",
    "rohan.welcome_msg()"
   ]
  },
  {
   "cell_type": "code",
   "execution_count": 15,
   "id": "d071ffe6-2a91-4251-898c-1bfb38cb5fb8",
   "metadata": {},
   "outputs": [
    {
     "name": "stdout",
     "output_type": "stream",
     "text": [
      "Welcome to Pwskills\n"
     ]
    }
   ],
   "source": [
    "sohan = pwskill()\n",
    "sohan.welcome_msg()"
   ]
  },
  {
   "cell_type": "code",
   "execution_count": 16,
   "id": "6f710382-7951-4715-b4b3-205c6f247ba9",
   "metadata": {},
   "outputs": [],
   "source": [
    "# constructor helps class to take data "
   ]
  },
  {
   "cell_type": "code",
   "execution_count": 17,
   "id": "eac87516-4feb-44f8-93c6-6ad4e5800cec",
   "metadata": {},
   "outputs": [],
   "source": [
    "class pwskills1:\n",
    "    \n",
    "    def __init__(self, phone_number, email, student_id):   # Constructor\n",
    "        self.phone_number = phone_number\n",
    "        self.email = email\n",
    "        self.student_id = student_id\n",
    "        \n",
    "    def return_student_data(self):\n",
    "        return self.phone_number, self.email , self.student_id"
   ]
  },
  {
   "cell_type": "code",
   "execution_count": 18,
   "id": "60696665-1370-416f-a183-59c172542808",
   "metadata": {},
   "outputs": [
    {
     "ename": "TypeError",
     "evalue": "__init__() missing 3 required positional arguments: 'phone_number', 'email', and 'student_id'",
     "output_type": "error",
     "traceback": [
      "\u001b[0;31m---------------------------------------------------------------------------\u001b[0m",
      "\u001b[0;31mTypeError\u001b[0m                                 Traceback (most recent call last)",
      "Cell \u001b[0;32mIn[18], line 1\u001b[0m\n\u001b[0;32m----> 1\u001b[0m rohan \u001b[38;5;241m=\u001b[39m \u001b[43mpwskills1\u001b[49m\u001b[43m(\u001b[49m\u001b[43m)\u001b[49m\n",
      "\u001b[0;31mTypeError\u001b[0m: __init__() missing 3 required positional arguments: 'phone_number', 'email', and 'student_id'"
     ]
    }
   ],
   "source": [
    "rohan = pwskills1()"
   ]
  },
  {
   "cell_type": "code",
   "execution_count": 19,
   "id": "93ac8fe5-67f0-4516-bf7a-e59cdff41617",
   "metadata": {},
   "outputs": [],
   "source": [
    "# you have to pass three data"
   ]
  },
  {
   "cell_type": "code",
   "execution_count": 21,
   "id": "53e8f1d4-8395-47eb-85ff-6e00d380e0c5",
   "metadata": {},
   "outputs": [],
   "source": [
    "rohan = pwskills1(9548549548, \"contact@rohan.online\", 101)"
   ]
  },
  {
   "cell_type": "code",
   "execution_count": 23,
   "id": "960d9ec4-2d1e-4e86-a5a4-c9e0041647e9",
   "metadata": {},
   "outputs": [
    {
     "data": {
      "text/plain": [
       "(9548549548, 'contact@rohan.online', 101)"
      ]
     },
     "execution_count": 23,
     "metadata": {},
     "output_type": "execute_result"
    }
   ],
   "source": [
    "rohan.return_student_data()"
   ]
  },
  {
   "cell_type": "code",
   "execution_count": 24,
   "id": "7c686a4d-975a-48d1-ad19-88acc697000f",
   "metadata": {},
   "outputs": [
    {
     "data": {
      "text/plain": [
       "9548549548"
      ]
     },
     "execution_count": 24,
     "metadata": {},
     "output_type": "execute_result"
    }
   ],
   "source": [
    "rohan.phone_number"
   ]
  },
  {
   "cell_type": "code",
   "execution_count": null,
   "id": "774a149d-4a92-4020-9f0a-0318e03e637e",
   "metadata": {},
   "outputs": [],
   "source": []
  },
  {
   "cell_type": "code",
   "execution_count": null,
   "id": "b494d96b-9fc1-4e0d-8670-a6a24bac2afd",
   "metadata": {},
   "outputs": [],
   "source": []
  }
 ],
 "metadata": {
  "kernelspec": {
   "display_name": "Python 3 (ipykernel)",
   "language": "python",
   "name": "python3"
  },
  "language_info": {
   "codemirror_mode": {
    "name": "ipython",
    "version": 3
   },
   "file_extension": ".py",
   "mimetype": "text/x-python",
   "name": "python",
   "nbconvert_exporter": "python",
   "pygments_lexer": "ipython3",
   "version": "3.8.2"
  }
 },
 "nbformat": 4,
 "nbformat_minor": 5
}
