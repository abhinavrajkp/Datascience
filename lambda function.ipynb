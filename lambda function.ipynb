{
 "cells": [
  {
   "cell_type": "code",
   "execution_count": 2,
   "id": "9ab9ad1d-3cec-4f54-8bbf-e1da1ebc312e",
   "metadata": {},
   "outputs": [],
   "source": [
    "#Lambda FUnctions"
   ]
  },
  {
   "cell_type": "code",
   "execution_count": 1,
   "id": "acab65f8-6f29-4fc5-8fc0-efbd0dfac3ec",
   "metadata": {},
   "outputs": [],
   "source": [
    "n=1\n",
    "p=3"
   ]
  },
  {
   "cell_type": "code",
   "execution_count": 6,
   "id": "0d41ea8d-ddaa-4e93-9996-422e702cdc84",
   "metadata": {},
   "outputs": [],
   "source": [
    "def test1(a,b): \n",
    "    return a**b  #function returning the b-th power of number a"
   ]
  },
  {
   "cell_type": "code",
   "execution_count": 4,
   "id": "0f88d0a8-58b3-46b5-8d20-3f9b06fa344c",
   "metadata": {},
   "outputs": [
    {
     "data": {
      "text/plain": [
       "1"
      ]
     },
     "execution_count": 4,
     "metadata": {},
     "output_type": "execute_result"
    }
   ],
   "source": [
    "test1(n,p)"
   ]
  },
  {
   "cell_type": "code",
   "execution_count": 5,
   "id": "e85c1640-3f17-419a-9e35-1835b9d6c0b4",
   "metadata": {},
   "outputs": [
    {
     "data": {
      "text/plain": [
       "9"
      ]
     },
     "execution_count": 5,
     "metadata": {},
     "output_type": "execute_result"
    }
   ],
   "source": [
    "test1(3,2)"
   ]
  },
  {
   "cell_type": "code",
   "execution_count": 7,
   "id": "17ad6f23-0394-40d4-8e88-597673954dba",
   "metadata": {},
   "outputs": [],
   "source": [
    "#test1 function returning the b-th power of number a, this same result can be \n",
    "# achieved using the function lambda"
   ]
  },
  {
   "cell_type": "code",
   "execution_count": 9,
   "id": "32b88f94-fcf7-45ea-beab-63127966c63a",
   "metadata": {},
   "outputs": [
    {
     "data": {
      "text/plain": [
       "<function __main__.<lambda>(n, p)>"
      ]
     },
     "execution_count": 9,
     "metadata": {},
     "output_type": "execute_result"
    }
   ],
   "source": [
    "lambda n,p : n**p # a dunction without have any name"
   ]
  },
  {
   "cell_type": "code",
   "execution_count": 10,
   "id": "7f7030e8-dd11-4dca-a66a-09d1c317f338",
   "metadata": {},
   "outputs": [],
   "source": [
    "a= lambda n,p : n**p"
   ]
  },
  {
   "cell_type": "code",
   "execution_count": 11,
   "id": "83252dcc-4565-47d0-99be-0354364245e9",
   "metadata": {},
   "outputs": [
    {
     "data": {
      "text/plain": [
       "8"
      ]
     },
     "execution_count": 11,
     "metadata": {},
     "output_type": "execute_result"
    }
   ],
   "source": [
    "a(2,3)"
   ]
  },
  {
   "cell_type": "code",
   "execution_count": 12,
   "id": "6a34764e-ba1b-44a5-b9d6-cd4c5fd31fa6",
   "metadata": {},
   "outputs": [],
   "source": [
    "# lambda function is also know as shorthand functin"
   ]
  },
  {
   "cell_type": "code",
   "execution_count": 13,
   "id": "d63b8347-1cf8-4f00-812b-5e7608fc252d",
   "metadata": {},
   "outputs": [],
   "source": [
    "c_to_f = lambda c : (9/5)*c+32 # celcius to fahrenhiet converter"
   ]
  },
  {
   "cell_type": "code",
   "execution_count": 14,
   "id": "951b235e-21bd-4a5a-8d24-ce0c6c9c8f63",
   "metadata": {},
   "outputs": [
    {
     "data": {
      "text/plain": [
       "89.6"
      ]
     },
     "execution_count": 14,
     "metadata": {},
     "output_type": "execute_result"
    }
   ],
   "source": [
    "c_to_f(32)"
   ]
  },
  {
   "cell_type": "code",
   "execution_count": 15,
   "id": "420d0eec-ed19-4a94-bec8-33f526f2b747",
   "metadata": {},
   "outputs": [],
   "source": [
    "# function which will return the max of two numbers\n"
   ]
  },
  {
   "cell_type": "code",
   "execution_count": 26,
   "id": "19c9859f-8914-48ea-85e0-9d553ae5d6b2",
   "metadata": {},
   "outputs": [],
   "source": [
    "m = lambda a,b : a if a > b else b"
   ]
  },
  {
   "cell_type": "code",
   "execution_count": 27,
   "id": "aa117404-ed17-4c39-b00e-f5334f3017b4",
   "metadata": {},
   "outputs": [
    {
     "data": {
      "text/plain": [
       "4"
      ]
     },
     "execution_count": 27,
     "metadata": {},
     "output_type": "execute_result"
    }
   ],
   "source": [
    "m(3,4)"
   ]
  },
  {
   "cell_type": "code",
   "execution_count": 28,
   "id": "7f76e6c7-06cb-4db2-8b6e-b66eea3616c3",
   "metadata": {},
   "outputs": [
    {
     "data": {
      "text/plain": [
       "34"
      ]
     },
     "execution_count": 28,
     "metadata": {},
     "output_type": "execute_result"
    }
   ],
   "source": [
    "m(34,23)"
   ]
  },
  {
   "cell_type": "code",
   "execution_count": 29,
   "id": "49ea1c3a-47c5-4a2b-9ea2-2ca90aa97eae",
   "metadata": {},
   "outputs": [],
   "source": [
    "S= \"PWskills\""
   ]
  },
  {
   "cell_type": "code",
   "execution_count": 30,
   "id": "2e589fa7-58e5-47f2-9836-f1a1e2789f4c",
   "metadata": {},
   "outputs": [],
   "source": [
    "len_str = lambda s : len(s) "
   ]
  },
  {
   "cell_type": "code",
   "execution_count": 32,
   "id": "a4ffe8f2-cbc1-4d07-9871-5ab15cc7d6a7",
   "metadata": {},
   "outputs": [
    {
     "data": {
      "text/plain": [
       "8"
      ]
     },
     "execution_count": 32,
     "metadata": {},
     "output_type": "execute_result"
    }
   ],
   "source": [
    "len_str(S)"
   ]
  },
  {
   "cell_type": "code",
   "execution_count": null,
   "id": "57e68a6f-0398-48fa-82e3-bfc8cd262921",
   "metadata": {},
   "outputs": [],
   "source": []
  }
 ],
 "metadata": {
  "kernelspec": {
   "display_name": "Python 3 (ipykernel)",
   "language": "python",
   "name": "python3"
  },
  "language_info": {
   "codemirror_mode": {
    "name": "ipython",
    "version": 3
   },
   "file_extension": ".py",
   "mimetype": "text/x-python",
   "name": "python",
   "nbconvert_exporter": "python",
   "pygments_lexer": "ipython3",
   "version": "3.8.2"
  }
 },
 "nbformat": 4,
 "nbformat_minor": 5
}
