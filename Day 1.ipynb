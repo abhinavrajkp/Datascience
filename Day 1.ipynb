{
 "cells": [
  {
   "cell_type": "markdown",
   "id": "6768d8a8-6913-41c0-8c52-5bbd80097cc6",
   "metadata": {
    "tags": []
   },
   "source": [
    "# my first PW lab experience "
   ]
  },
  {
   "cell_type": "markdown",
   "id": "48485571-e762-4e22-92fd-e29c370f16a3",
   "metadata": {},
   "source": [
    "## HEADING 2\n"
   ]
  },
  {
   "cell_type": "markdown",
   "id": "3774ac55-6898-4e06-8a0b-710a67f6442b",
   "metadata": {},
   "source": [
    "# heading 1\n",
    "## heading 2\n",
    "### heading 3"
   ]
  },
  {
   "cell_type": "raw",
   "id": "0d88ad9a-008d-41f7-993d-a9fa8a517368",
   "metadata": {},
   "source": [
    "This is row format means we can see what all we typed in the cells with out any change\n",
    "''' this \n",
    "is\n",
    "a\n",
    "multi\n",
    "line comment \n",
    "'''\n",
    "\n",
    "a =5\n",
    "b=6\n",
    "a+b\n",
    "\n"
   ]
  },
  {
   "cell_type": "markdown",
   "id": "1f277de6-489e-4c72-9443-cfc076524099",
   "metadata": {},
   "source": [
    "| This | is   |\n",
    "|------|------|\n",
    "|   a  | table|\n"
   ]
  },
  {
   "cell_type": "raw",
   "id": "b64e1630-946c-4271-9a7d-92fe9b1562c2",
   "metadata": {
    "jp-MarkdownHeadingCollapsed": true,
    "tags": []
   },
   "source": [
    "| This | is   |\n",
    "|------|------|\n",
    "|   a  | table|\n"
   ]
  },
  {
   "cell_type": "markdown",
   "id": "0c236a90-5578-4f22-8530-a2c3c1f852e7",
   "metadata": {},
   "source": [
    "# Numbers"
   ]
  },
  {
   "cell_type": "code",
   "execution_count": 11,
   "id": "09823131-b627-44b3-a38c-88e3a6351a25",
   "metadata": {},
   "outputs": [
    {
     "data": {
      "text/plain": [
       "4"
      ]
     },
     "execution_count": 11,
     "metadata": {},
     "output_type": "execute_result"
    }
   ],
   "source": [
    "a = 1+3\n",
    "a"
   ]
  },
  {
   "cell_type": "code",
   "execution_count": 13,
   "id": "1ab5f5d4-6d98-4a12-9ccb-421c9434c724",
   "metadata": {},
   "outputs": [
    {
     "name": "stdout",
     "output_type": "stream",
     "text": [
      "4\n"
     ]
    }
   ],
   "source": [
    "print (a)"
   ]
  },
  {
   "cell_type": "code",
   "execution_count": 14,
   "id": "ca2404af-321f-4b61-9614-454f4815be52",
   "metadata": {},
   "outputs": [
    {
     "name": "stdout",
     "output_type": "stream",
     "text": [
      " Hello wrld\n"
     ]
    }
   ],
   "source": [
    "print (\" Hello wrld\")"
   ]
  },
  {
   "cell_type": "code",
   "execution_count": 15,
   "id": "b11533ce-1936-4314-b0a5-b5159194272a",
   "metadata": {},
   "outputs": [
    {
     "name": "stdout",
     "output_type": "stream",
     "text": [
      " Hi my name is abhinav Raj \n",
      " i am studying Data Science\n"
     ]
    }
   ],
   "source": [
    "print(\" Hi my name is abhinav Raj \\n i am studying Data Science\")"
   ]
  },
  {
   "cell_type": "code",
   "execution_count": 16,
   "id": "dad3d282-dc21-46bc-b6fc-f7f2e1763605",
   "metadata": {},
   "outputs": [],
   "source": [
    "_name =\"Abhinav\"\n",
    "_company = \"Piramal Swasthya\"\n",
    "_ph = \"6282225676\""
   ]
  },
  {
   "cell_type": "code",
   "execution_count": 18,
   "id": "b92616cb-6bf5-4109-ad48-b0dd412ea13e",
   "metadata": {},
   "outputs": [
    {
     "data": {
      "text/plain": [
       "'Abhinav'"
      ]
     },
     "execution_count": 18,
     "metadata": {},
     "output_type": "execute_result"
    }
   ],
   "source": [
    "_name"
   ]
  },
  {
   "cell_type": "code",
   "execution_count": null,
   "id": "a36f847f-453f-495d-8545-d3d8ce17e722",
   "metadata": {},
   "outputs": [],
   "source": []
  },
  {
   "cell_type": "code",
   "execution_count": null,
   "id": "80c1911e-930f-4757-8847-141b804972b3",
   "metadata": {},
   "outputs": [],
   "source": []
  },
  {
   "cell_type": "code",
   "execution_count": null,
   "id": "2eb2e4b5-7b55-4d02-a771-3039da654867",
   "metadata": {},
   "outputs": [],
   "source": []
  },
  {
   "cell_type": "code",
   "execution_count": null,
   "id": "1e4119c3-6ba6-4112-bbac-9a101727ed7f",
   "metadata": {},
   "outputs": [],
   "source": []
  },
  {
   "cell_type": "code",
   "execution_count": null,
   "id": "2aa45173-2406-4cfe-a80e-b968fa548eac",
   "metadata": {},
   "outputs": [],
   "source": []
  }
 ],
 "metadata": {
  "kernelspec": {
   "display_name": "Python 3 (ipykernel)",
   "language": "python",
   "name": "python3"
  },
  "language_info": {
   "codemirror_mode": {
    "name": "ipython",
    "version": 3
   },
   "file_extension": ".py",
   "mimetype": "text/x-python",
   "name": "python",
   "nbconvert_exporter": "python",
   "pygments_lexer": "ipython3",
   "version": "3.10.8"
  }
 },
 "nbformat": 4,
 "nbformat_minor": 5
}
