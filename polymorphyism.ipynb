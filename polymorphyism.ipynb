{
 "cells": [
  {
   "cell_type": "code",
   "execution_count": 1,
   "id": "03ff11f9-d7ab-4649-940a-868ee36b426d",
   "metadata": {},
   "outputs": [],
   "source": [
    "# a program can behave differently based on different data"
   ]
  },
  {
   "cell_type": "code",
   "execution_count": 2,
   "id": "8af4fb54-aa9c-440e-a626-b8fd98bdeda2",
   "metadata": {},
   "outputs": [],
   "source": [
    "def test(a,b):\n",
    "    return a+b"
   ]
  },
  {
   "cell_type": "code",
   "execution_count": 6,
   "id": "11bf38de-f95e-4ca4-952f-4176d79df990",
   "metadata": {},
   "outputs": [
    {
     "data": {
      "text/plain": [
       "4"
      ]
     },
     "execution_count": 6,
     "metadata": {},
     "output_type": "execute_result"
    }
   ],
   "source": [
    "test(1,3)      # addition"
   ]
  },
  {
   "cell_type": "code",
   "execution_count": 5,
   "id": "f69bb565-1373-48a3-8685-c7e57d848ea8",
   "metadata": {},
   "outputs": [
    {
     "data": {
      "text/plain": [
       "'abhinav Raj'"
      ]
     },
     "execution_count": 5,
     "metadata": {},
     "output_type": "execute_result"
    }
   ],
   "source": [
    "test(\"abhinav\",\" Raj\") # concatination"
   ]
  },
  {
   "cell_type": "code",
   "execution_count": 8,
   "id": "396eccb2-5447-4c7d-bad5-f9e6f6192b1c",
   "metadata": {},
   "outputs": [
    {
     "data": {
      "text/plain": [
       "[1, 2, 3, 4, 5, 6, 7, 2, 3, 4, 5, 6, 7, 8]"
      ]
     },
     "execution_count": 8,
     "metadata": {},
     "output_type": "execute_result"
    }
   ],
   "source": [
    "test([1,2,3,4,5,6,7],[2,3,4,5,6,7,8])    # list concationantion"
   ]
  },
  {
   "cell_type": "code",
   "execution_count": 12,
   "id": "37ffab4f-c79f-4b36-a4dd-20a5a36c7104",
   "metadata": {},
   "outputs": [],
   "source": [
    "class data_science:\n",
    "    def syllabus(self):\n",
    "        print(\"This is the method for data science syllabus\") "
   ]
  },
  {
   "cell_type": "code",
   "execution_count": 19,
   "id": "84e2bb0a-025a-4d2c-abd7-63869ff83a02",
   "metadata": {},
   "outputs": [],
   "source": [
    "class web_dev:\n",
    "    def syllabus(self):\n",
    "        print(\"This is the method for web development syllabus\") "
   ]
  },
  {
   "cell_type": "code",
   "execution_count": 21,
   "id": "d96314e8-93d4-4ebe-b747-ec741e6536bf",
   "metadata": {},
   "outputs": [],
   "source": [
    "def class_parcher(class_obj):\n",
    "    for i in class_obj:\n",
    "        i.syllabus()"
   ]
  },
  {
   "cell_type": "code",
   "execution_count": 25,
   "id": "ace1e669-9e3b-4b39-8ba9-a4e1721b91b0",
   "metadata": {},
   "outputs": [],
   "source": [
    "obj_data_science = data_science()\n",
    "obj_web_dev = web_dev()\n",
    "obj_class = [obj_data_science, obj_web_dev]"
   ]
  },
  {
   "cell_type": "code",
   "execution_count": 26,
   "id": "6bcb3be9-d92a-460c-9aff-ae37ecdc5fe4",
   "metadata": {},
   "outputs": [
    {
     "name": "stdout",
     "output_type": "stream",
     "text": [
      "This is the method for data science syllabus\n",
      "This is the method for web development syllabus\n"
     ]
    }
   ],
   "source": [
    "class_parcher(obj_class)"
   ]
  },
  {
   "cell_type": "code",
   "execution_count": null,
   "id": "9bf76f22-af25-41f6-a364-e5158601010d",
   "metadata": {},
   "outputs": [],
   "source": []
  }
 ],
 "metadata": {
  "kernelspec": {
   "display_name": "Python 3 (ipykernel)",
   "language": "python",
   "name": "python3"
  },
  "language_info": {
   "codemirror_mode": {
    "name": "ipython",
    "version": 3
   },
   "file_extension": ".py",
   "mimetype": "text/x-python",
   "name": "python",
   "nbconvert_exporter": "python",
   "pygments_lexer": "ipython3",
   "version": "3.8.2"
  }
 },
 "nbformat": 4,
 "nbformat_minor": 5
}
