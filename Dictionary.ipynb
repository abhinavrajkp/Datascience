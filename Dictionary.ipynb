{
 "cells": [
  {
   "cell_type": "markdown",
   "id": "20d0da5b-53b7-40ba-b0cb-99905f70d68d",
   "metadata": {},
   "source": [
    "# Dictionary\n"
   ]
  },
  {
   "cell_type": "code",
   "execution_count": 1,
   "id": "d0ce5816-9dcf-4c1d-b2e2-80683ca31a80",
   "metadata": {},
   "outputs": [
    {
     "data": {
      "text/plain": [
       "dict"
      ]
     },
     "execution_count": 1,
     "metadata": {},
     "output_type": "execute_result"
    }
   ],
   "source": [
    "d = {}\n",
    "type(d)"
   ]
  },
  {
   "cell_type": "code",
   "execution_count": 2,
   "id": "3d0ff709-6890-45ef-a6e8-cde495f8a78a",
   "metadata": {},
   "outputs": [
    {
     "data": {
      "text/plain": [
       "set"
      ]
     },
     "execution_count": 2,
     "metadata": {},
     "output_type": "execute_result"
    }
   ],
   "source": [
    "d1 = {2}\n",
    "type(d1)"
   ]
  },
  {
   "cell_type": "code",
   "execution_count": 3,
   "id": "e9f1b698-bc9e-4fb0-8899-713a4f963f55",
   "metadata": {},
   "outputs": [
    {
     "data": {
      "text/plain": [
       "dict"
      ]
     },
     "execution_count": 3,
     "metadata": {},
     "output_type": "execute_result"
    }
   ],
   "source": [
    "d2 = {\"name\":\"Abhinav\", \"age\":\"26\", \"ph\":\"+919283948343\"}\n",
    "type(d2)"
   ]
  },
  {
   "cell_type": "code",
   "execution_count": 4,
   "id": "a76b03a2-8954-4e1d-9f69-dc9c49d14408",
   "metadata": {},
   "outputs": [
    {
     "data": {
      "text/plain": [
       "{'name': 'AbhinavRaj'}"
      ]
     },
     "execution_count": 4,
     "metadata": {},
     "output_type": "execute_result"
    }
   ],
   "source": [
    "d1 = {\"name\":\"Abhi\",\"name\":\"AbhinavRaj\"} # name updated to \"AbhinavRaj\"\n",
    "d1"
   ]
  },
  {
   "cell_type": "code",
   "execution_count": 5,
   "id": "86433136-8725-42c3-a64b-7b9fc2d6725b",
   "metadata": {},
   "outputs": [],
   "source": [
    "# ^ key can't be repeated but values can repeat\n"
   ]
  },
  {
   "cell_type": "code",
   "execution_count": 6,
   "id": "c88878c2-4c4c-4c9c-94f8-9a34620da8eb",
   "metadata": {},
   "outputs": [
    {
     "data": {
      "text/plain": [
       "'\\nkey can be a string\\nkey can be a numerical value\\nkey ycan be a float \\nkey can be a boolien value (True / False)\\n'"
      ]
     },
     "execution_count": 6,
     "metadata": {},
     "output_type": "execute_result"
    }
   ],
   "source": [
    "\"\"\"\n",
    "key can be a string\n",
    "key can be a numerical value\n",
    "key ycan be a float \n",
    "key can be a boolien value (True / False)\n",
    "\n",
    "Key can't be special case\n",
    "key can't be list but key can be tuple\n",
    "\"\"\""
   ]
  },
  {
   "cell_type": "code",
   "execution_count": 7,
   "id": "90c548c1-c851-4b5c-9717-a1efc5488a0b",
   "metadata": {},
   "outputs": [],
   "source": [
    "d3 = {\"$\":\"df\"}"
   ]
  },
  {
   "cell_type": "code",
   "execution_count": 8,
   "id": "6066ce77-83f3-4a30-8e5f-3fc6bf7ff492",
   "metadata": {},
   "outputs": [
    {
     "data": {
      "text/plain": [
       "{'$': 'df'}"
      ]
     },
     "execution_count": 8,
     "metadata": {},
     "output_type": "execute_result"
    }
   ],
   "source": [
    "d3"
   ]
  },
  {
   "cell_type": "code",
   "execution_count": 12,
   "id": "f66a3c86-0388-489a-9c7e-c50604f2fcfe",
   "metadata": {},
   "outputs": [
    {
     "ename": "SyntaxError",
     "evalue": "invalid syntax (2719312709.py, line 1)",
     "output_type": "error",
     "traceback": [
      "\u001b[0;36m  Cell \u001b[0;32mIn[12], line 1\u001b[0;36m\u001b[0m\n\u001b[0;31m    d6 = {$:\"435\"}\u001b[0m\n\u001b[0m          ^\u001b[0m\n\u001b[0;31mSyntaxError\u001b[0m\u001b[0;31m:\u001b[0m invalid syntax\n"
     ]
    }
   ],
   "source": [
    "d6 = {$:\"435\"}"
   ]
  },
  {
   "cell_type": "code",
   "execution_count": 9,
   "id": "ff099649-e076-4e72-a78a-4b47e08dfeba",
   "metadata": {},
   "outputs": [
    {
     "ename": "TypeError",
     "evalue": "unhashable type: 'list'",
     "output_type": "error",
     "traceback": [
      "\u001b[0;31m---------------------------------------------------------------------------\u001b[0m",
      "\u001b[0;31mTypeError\u001b[0m                                 Traceback (most recent call last)",
      "Cell \u001b[0;32mIn[9], line 1\u001b[0m\n\u001b[0;32m----> 1\u001b[0m d4 \u001b[38;5;241m=\u001b[39m {[\u001b[38;5;241m2\u001b[39m,\u001b[38;5;241m3\u001b[39m]:\u001b[38;5;124m\"\u001b[39m\u001b[38;5;124mlist\u001b[39m\u001b[38;5;124m\"\u001b[39m}\n",
      "\u001b[0;31mTypeError\u001b[0m: unhashable type: 'list'"
     ]
    }
   ],
   "source": [
    "d4 = {[2,3]:\"list\"}"
   ]
  },
  {
   "cell_type": "code",
   "execution_count": 11,
   "id": "13a83b2b-2426-4568-a512-073ec9e8e9b5",
   "metadata": {},
   "outputs": [
    {
     "data": {
      "text/plain": [
       "{(2, 3): 'tuple'}"
      ]
     },
     "execution_count": 11,
     "metadata": {},
     "output_type": "execute_result"
    }
   ],
   "source": [
    "d5 = {(2,3):\"tuple\"}\n",
    "d5"
   ]
  },
  {
   "cell_type": "code",
   "execution_count": 14,
   "id": "acba4c80-c512-4716-8e78-a80d29048bd0",
   "metadata": {},
   "outputs": [
    {
     "ename": "TypeError",
     "evalue": "unhashable type: 'set'",
     "output_type": "error",
     "traceback": [
      "\u001b[0;31m---------------------------------------------------------------------------\u001b[0m",
      "\u001b[0;31mTypeError\u001b[0m                                 Traceback (most recent call last)",
      "Cell \u001b[0;32mIn[14], line 1\u001b[0m\n\u001b[0;32m----> 1\u001b[0m d7 \u001b[38;5;241m=\u001b[39m {{\u001b[38;5;241m1\u001b[39m,\u001b[38;5;241m2\u001b[39m,\u001b[38;5;241m3\u001b[39m}:\u001b[38;5;124m\"\u001b[39m\u001b[38;5;124msds\u001b[39m\u001b[38;5;124m\"\u001b[39m}\n",
      "\u001b[0;31mTypeError\u001b[0m: unhashable type: 'set'"
     ]
    }
   ],
   "source": [
    "d7 = {{1,2,3}:\"sds\"}"
   ]
  },
  {
   "cell_type": "code",
   "execution_count": 15,
   "id": "530a7e92-63e1-4f83-8e4f-16dd838ee747",
   "metadata": {},
   "outputs": [
    {
     "ename": "TypeError",
     "evalue": "unhashable type: 'dict'",
     "output_type": "error",
     "traceback": [
      "\u001b[0;31m---------------------------------------------------------------------------\u001b[0m",
      "\u001b[0;31mTypeError\u001b[0m                                 Traceback (most recent call last)",
      "Cell \u001b[0;32mIn[15], line 1\u001b[0m\n\u001b[0;32m----> 1\u001b[0m d7 \u001b[38;5;241m=\u001b[39m {{\u001b[38;5;124m\"\u001b[39m\u001b[38;5;124m1\u001b[39m\u001b[38;5;124m\"\u001b[39m:\u001b[38;5;124m\"\u001b[39m\u001b[38;5;124mValue\u001b[39m\u001b[38;5;124m\"\u001b[39m,\u001b[38;5;124m\"\u001b[39m\u001b[38;5;124mkey\u001b[39m\u001b[38;5;124m\"\u001b[39m:\u001b[38;5;124m\"\u001b[39m\u001b[38;5;124mv2\u001b[39m\u001b[38;5;124m\"\u001b[39m}:\u001b[38;5;124m\"\u001b[39m\u001b[38;5;124msds\u001b[39m\u001b[38;5;124m\"\u001b[39m}\n",
      "\u001b[0;31mTypeError\u001b[0m: unhashable type: 'dict'"
     ]
    }
   ],
   "source": [
    "d7 = {{\"1\":\"Value\",\"key\":\"v2\"}:\"sds\"}"
   ]
  },
  {
   "cell_type": "code",
   "execution_count": 16,
   "id": "71869d07-74f1-4225-b939-e24f83b4b953",
   "metadata": {},
   "outputs": [],
   "source": [
    "# in collection point of view we can take tuple only as a key."
   ]
  },
  {
   "cell_type": "code",
   "execution_count": 17,
   "id": "676bf1e9-ed5a-43b0-8e1f-d26b1e6a7dd4",
   "metadata": {},
   "outputs": [
    {
     "data": {
      "text/plain": [
       "{'COURSE_name': ['data science', 'Python', 'data analysis']}"
      ]
     },
     "execution_count": 17,
     "metadata": {},
     "output_type": "execute_result"
    }
   ],
   "source": [
    "d_12 = {\"COURSE_name\":[\"data science\", \"Python\",\"data analysis\"]}\n",
    "d_12"
   ]
  },
  {
   "cell_type": "code",
   "execution_count": 18,
   "id": "897c79f2-c124-4fcc-a22d-6f8090f58df8",
   "metadata": {},
   "outputs": [],
   "source": [
    "d_13 = {\"key\":{1,2,3,4}}"
   ]
  },
  {
   "cell_type": "code",
   "execution_count": 19,
   "id": "946d345f-fd79-4b65-8571-9dd76e61ce5f",
   "metadata": {},
   "outputs": [],
   "source": [
    "d_14 = {\"key\":(34,23,34)}"
   ]
  },
  {
   "cell_type": "code",
   "execution_count": 21,
   "id": "88114537-fa65-460e-9f25-e7e81cb9808c",
   "metadata": {},
   "outputs": [],
   "source": [
    "d_15 = {\"key\":{\"key\":\"value\"}} # nested dictionary value as a dict"
   ]
  },
  {
   "cell_type": "code",
   "execution_count": null,
   "id": "fe187e34-b3c7-4052-9e4a-48d3e297ea72",
   "metadata": {},
   "outputs": [],
   "source": []
  }
 ],
 "metadata": {
  "kernelspec": {
   "display_name": "Python 3 (ipykernel)",
   "language": "python",
   "name": "python3"
  },
  "language_info": {
   "codemirror_mode": {
    "name": "ipython",
    "version": 3
   },
   "file_extension": ".py",
   "mimetype": "text/x-python",
   "name": "python",
   "nbconvert_exporter": "python",
   "pygments_lexer": "ipython3",
   "version": "3.8.2"
  }
 },
 "nbformat": 4,
 "nbformat_minor": 5
}
