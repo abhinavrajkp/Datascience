{
 "cells": [
  {
   "cell_type": "code",
   "execution_count": null,
   "id": "9983ba5c-f9bf-4637-9c08-b4b9ba754a4b",
   "metadata": {},
   "outputs": [],
   "source": [
    "import time\n",
    "import webbrowser\n",
    "\n",
    "# Set the time interval in seconds\n",
    "time_interval = 10 * 60  # 20 minutes in seconds\n",
    "\n",
    "# Register the Chrome executable path\n",
    "chrome_path = '/Applications/Google Chrome.app/Contents/MacOS/Google Chrome'\n",
    "webbrowser.register('chrome', None, webbrowser.BackgroundBrowser(chrome_path))\n",
    "\n",
    "# Infinite loop to run the time alert\n",
    "while True:\n",
    "    # Sleep for the specified time interval\n",
    "    time.sleep(time_interval)\n",
    "    # Alert message\n",
    "    alert_message = \"It has been 20 minutes! Take some rest bro\"\n",
    "    # Open a new Chrome tab and show the alert using JavaScript\n",
    "    url = \"data:text/html,<script>alert('{msg}');</script>\".format(msg=alert_message)\n",
    "    webbrowser.get(using='chrome').open_new_tab(url)\n"
   ]
  },
  {
   "cell_type": "code",
   "execution_count": null,
   "id": "b1f5ead7-0a8a-4db8-8659-8ae4ae9038b3",
   "metadata": {},
   "outputs": [],
   "source": []
  },
  {
   "cell_type": "code",
   "execution_count": null,
   "id": "6b990c7b-a46f-4d22-8304-d528a673d911",
   "metadata": {},
   "outputs": [],
   "source": []
  },
  {
   "cell_type": "code",
   "execution_count": null,
   "id": "67576575-171d-4a07-98c5-d8cc0f41e216",
   "metadata": {},
   "outputs": [],
   "source": []
  }
 ],
 "metadata": {
  "kernelspec": {
   "display_name": "Python 3 (ipykernel)",
   "language": "python",
   "name": "python3"
  },
  "language_info": {
   "codemirror_mode": {
    "name": "ipython",
    "version": 3
   },
   "file_extension": ".py",
   "mimetype": "text/x-python",
   "name": "python",
   "nbconvert_exporter": "python",
   "pygments_lexer": "ipython3",
   "version": "3.8.2"
  }
 },
 "nbformat": 4,
 "nbformat_minor": 5
}
