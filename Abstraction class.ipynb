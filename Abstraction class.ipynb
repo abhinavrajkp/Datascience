{
 "cells": [
  {
   "cell_type": "code",
   "execution_count": 1,
   "id": "cfb9eeb6-d878-4bb1-93d6-1d0e9118527b",
   "metadata": {},
   "outputs": [],
   "source": [
    " # abstract class = a skeliton or a blue print"
   ]
  },
  {
   "cell_type": "code",
   "execution_count": 3,
   "id": "fa44190a-7aae-49df-81e0-ae84841690fc",
   "metadata": {},
   "outputs": [],
   "source": [
    "import abc\n",
    "\n",
    "class pwskills:\n",
    "    \n",
    "    @abc.abstractmethod\n",
    "    def student_details(self):\n",
    "        pass\n",
    "    @abc.abstractmethod\n",
    "    def student_assignment(self):\n",
    "        pass\n",
    "    @abc.abstractmethod\n",
    "    def student_marks(self):\n",
    "        pass"
   ]
  },
  {
   "cell_type": "code",
   "execution_count": 4,
   "id": "7b4718e1-418b-46c5-87a3-f705f2799317",
   "metadata": {},
   "outputs": [],
   "source": [
    "class data_science(pwskills):\n",
    "    \n",
    "    def student_details(self):\n",
    "        return \"it will try to return the details of a data science student\"\n",
    "    \n",
    "    def student_assignment(self):\n",
    "        return \"this will return the assignmnet of a data science student\"\n",
    "    "
   ]
  },
  {
   "cell_type": "code",
   "execution_count": 6,
   "id": "0a051227-af63-4388-b28e-f1c89b8aa515",
   "metadata": {},
   "outputs": [],
   "source": [
    "class web_dev(pwskills):\n",
    "    \n",
    "    def student_details(self):\n",
    "        return \"this is returnign the student details of a web dev student\"\n",
    "    \n",
    "    def student_marks(self):\n",
    "        return \"this will return the mark of a web_dev studnet\""
   ]
  },
  {
   "cell_type": "code",
   "execution_count": 7,
   "id": "bfaf8dbf-7491-4060-92eb-6d30f1bba434",
   "metadata": {},
   "outputs": [
    {
     "data": {
      "text/plain": [
       "'it will try to return the details of a data science student'"
      ]
     },
     "execution_count": 7,
     "metadata": {},
     "output_type": "execute_result"
    }
   ],
   "source": [
    "ds = data_science()\n",
    "ds.student_details()"
   ]
  },
  {
   "cell_type": "code",
   "execution_count": 8,
   "id": "4471eddd-712a-438b-96b3-34b840912e30",
   "metadata": {},
   "outputs": [
    {
     "data": {
      "text/plain": [
       "'this is returnign the student details of a web dev student'"
      ]
     },
     "execution_count": 8,
     "metadata": {},
     "output_type": "execute_result"
    }
   ],
   "source": [
    "wd = web_dev()\n",
    "wd.student_details()"
   ]
  },
  {
   "cell_type": "code",
   "execution_count": null,
   "id": "b8ad3ffc-19d5-4691-93e4-381c1ec9d875",
   "metadata": {},
   "outputs": [],
   "source": []
  }
 ],
 "metadata": {
  "kernelspec": {
   "display_name": "Python 3 (ipykernel)",
   "language": "python",
   "name": "python3"
  },
  "language_info": {
   "codemirror_mode": {
    "name": "ipython",
    "version": 3
   },
   "file_extension": ".py",
   "mimetype": "text/x-python",
   "name": "python",
   "nbconvert_exporter": "python",
   "pygments_lexer": "ipython3",
   "version": "3.8.2"
  }
 },
 "nbformat": 4,
 "nbformat_minor": 5
}
