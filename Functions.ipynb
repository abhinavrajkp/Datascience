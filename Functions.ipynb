{
 "cells": [
  {
   "cell_type": "markdown",
   "id": "a28b70cb-45b9-4a89-b341-53dee5add7c1",
   "metadata": {},
   "source": [
    "# <font color=\"Green\"> Functions </font>"
   ]
  },
  {
   "cell_type": "code",
   "execution_count": 2,
   "id": "20028d59-46a5-4963-b78c-141b116c8352",
   "metadata": {},
   "outputs": [
    {
     "name": "stdout",
     "output_type": "stream",
     "text": [
      "This is my print\n"
     ]
    }
   ],
   "source": [
    "print(\"This is my print\")"
   ]
  },
  {
   "cell_type": "code",
   "execution_count": 3,
   "id": "a9b6636b-f7b1-4d0e-99cb-e72b86b4c50b",
   "metadata": {},
   "outputs": [
    {
     "data": {
      "text/plain": [
       "8"
      ]
     },
     "execution_count": 3,
     "metadata": {},
     "output_type": "execute_result"
    }
   ],
   "source": [
    "l=[1,2,3,4,3,523,53,4]\n",
    "len(l)"
   ]
  },
  {
   "cell_type": "markdown",
   "id": "3a647fd6-4f3c-4c68-bfd4-49d13c0f334a",
   "metadata": {},
   "source": [
    "these are inbuild functions"
   ]
  },
  {
   "cell_type": "code",
   "execution_count": 21,
   "id": "17356e98-c7f9-427c-b915-039b20c934d7",
   "metadata": {},
   "outputs": [],
   "source": [
    "# used defined function\n",
    "\n",
    "def test(a): # def = definition\n",
    "    if a > 100:\n",
    "        print(\"Good day\")\n",
    "    else:\n",
    "        print(\"not that good\")\n",
    "        \n"
   ]
  },
  {
   "cell_type": "code",
   "execution_count": 6,
   "id": "3bf09e1e-f410-4196-88d9-9c65caf2177e",
   "metadata": {},
   "outputs": [
    {
     "ename": "SyntaxError",
     "evalue": "invalid syntax (1416120510.py, line 8)",
     "output_type": "error",
     "traceback": [
      "\u001b[0;36m  Cell \u001b[0;32mIn[6], line 8\u001b[0;36m\u001b[0m\n\u001b[0;31m    test(num)\u001b[0m\n\u001b[0m    ^\u001b[0m\n\u001b[0;31mSyntaxError\u001b[0m\u001b[0;31m:\u001b[0m invalid syntax\n"
     ]
    }
   ],
   "source": [
    "def test(a): # def = definition\n",
    "    if a > 100:\n",
    "        return \"Good day\"\n",
    "    else:\n",
    "        return \"not that good\"\n",
    "        \n",
    "num = int(input(\"Enter any number between 0 and 200: \")\n",
    "test(num)\n"
   ]
  },
  {
   "cell_type": "code",
   "execution_count": 7,
   "id": "ec0268d9-0519-4749-8349-443627e2e242",
   "metadata": {},
   "outputs": [],
   "source": [
    "a,b,c,d = 1,2,32.23,True"
   ]
  },
  {
   "cell_type": "code",
   "execution_count": 8,
   "id": "2829374a-c0c9-4eeb-86b2-2a9b8a54840c",
   "metadata": {},
   "outputs": [
    {
     "data": {
      "text/plain": [
       "1"
      ]
     },
     "execution_count": 8,
     "metadata": {},
     "output_type": "execute_result"
    }
   ],
   "source": [
    "a"
   ]
  },
  {
   "cell_type": "code",
   "execution_count": 9,
   "id": "3c8d7902-20df-4c0a-a3a4-e5be0fcc44ad",
   "metadata": {},
   "outputs": [
    {
     "data": {
      "text/plain": [
       "2"
      ]
     },
     "execution_count": 9,
     "metadata": {},
     "output_type": "execute_result"
    }
   ],
   "source": [
    "b"
   ]
  },
  {
   "cell_type": "code",
   "execution_count": 10,
   "id": "e75a9364-0881-4886-97d3-2a2612937e07",
   "metadata": {},
   "outputs": [
    {
     "data": {
      "text/plain": [
       "32.23"
      ]
     },
     "execution_count": 10,
     "metadata": {},
     "output_type": "execute_result"
    }
   ],
   "source": [
    "c"
   ]
  },
  {
   "cell_type": "code",
   "execution_count": 11,
   "id": "95dc2f89-3834-4b7d-83b1-de146e3feaf0",
   "metadata": {},
   "outputs": [
    {
     "data": {
      "text/plain": [
       "True"
      ]
     },
     "execution_count": 11,
     "metadata": {},
     "output_type": "execute_result"
    }
   ],
   "source": [
    "d"
   ]
  },
  {
   "cell_type": "code",
   "execution_count": 12,
   "id": "c9c7305d-2177-4cd7-bd63-8fa3b691f791",
   "metadata": {},
   "outputs": [],
   "source": [
    "def test4():\n",
    "    a = 3*4+5\n",
    "    return a"
   ]
  },
  {
   "cell_type": "code",
   "execution_count": 14,
   "id": "9343a38f-0d6f-4bf1-adf8-0feca0c91bb9",
   "metadata": {},
   "outputs": [
    {
     "data": {
      "text/plain": [
       "17"
      ]
     },
     "execution_count": 14,
     "metadata": {},
     "output_type": "execute_result"
    }
   ],
   "source": [
    "test4()"
   ]
  },
  {
   "cell_type": "code",
   "execution_count": 16,
   "id": "363b2649-60f7-4e6f-b294-112b4974bc1b",
   "metadata": {},
   "outputs": [
    {
     "data": {
      "text/plain": [
       "int"
      ]
     },
     "execution_count": 16,
     "metadata": {},
     "output_type": "execute_result"
    }
   ],
   "source": [
    "type(test4())"
   ]
  },
  {
   "cell_type": "code",
   "execution_count": 17,
   "id": "324c66b9-1f85-4d6a-98c9-9fb3200b47c6",
   "metadata": {},
   "outputs": [],
   "source": [
    "def test5(a,b):\n",
    "    c = a+b\n",
    "    return c"
   ]
  },
  {
   "cell_type": "code",
   "execution_count": 18,
   "id": "5b7e357d-015f-4639-b457-530ec31d48d8",
   "metadata": {},
   "outputs": [
    {
     "data": {
      "text/plain": [
       "5"
      ]
     },
     "execution_count": 18,
     "metadata": {},
     "output_type": "execute_result"
    }
   ],
   "source": [
    "test5(2,3)"
   ]
  },
  {
   "cell_type": "code",
   "execution_count": 22,
   "id": "6f391431-eec2-445e-be55-59300971da6d",
   "metadata": {},
   "outputs": [
    {
     "name": "stdout",
     "output_type": "stream",
     "text": [
      "not that good\n"
     ]
    }
   ],
   "source": [
    "test(2)"
   ]
  },
  {
   "cell_type": "code",
   "execution_count": 23,
   "id": "50e2fb8c-b5cb-4618-9709-810a23d9c4ad",
   "metadata": {},
   "outputs": [
    {
     "name": "stdout",
     "output_type": "stream",
     "text": [
      "Good day\n"
     ]
    }
   ],
   "source": [
    "test(233)"
   ]
  },
  {
   "cell_type": "code",
   "execution_count": 24,
   "id": "a2ab0e02-6741-44b2-b037-8d0bf68119b9",
   "metadata": {},
   "outputs": [
    {
     "data": {
      "text/plain": [
       "'abhinavraj'"
      ]
     },
     "execution_count": 24,
     "metadata": {},
     "output_type": "execute_result"
    }
   ],
   "source": [
    "test5(\"abhinav\",\"raj\")"
   ]
  },
  {
   "cell_type": "code",
   "execution_count": 25,
   "id": "aaea3f53-5b42-4050-9a93-b78bb48eabe9",
   "metadata": {},
   "outputs": [
    {
     "data": {
      "text/plain": [
       "[1, 2, 3, 5, 4, 6.78, 8]"
      ]
     },
     "execution_count": 25,
     "metadata": {},
     "output_type": "execute_result"
    }
   ],
   "source": [
    "test5([1,2,3,5],[4,6.78,8])"
   ]
  },
  {
   "cell_type": "code",
   "execution_count": 26,
   "id": "c930b182-1ac0-4931-84d6-590c637ca196",
   "metadata": {},
   "outputs": [],
   "source": [
    "l = [1,23,4334,42,34,2,\"abhi\",\"skills\",[3,34,22,33,1,2]]"
   ]
  },
  {
   "cell_type": "code",
   "execution_count": 27,
   "id": "428b09ee-7634-4541-99f3-c2e4eac9a698",
   "metadata": {},
   "outputs": [],
   "source": [
    "#create a function which will take list as an input and give me a final list with numerical values only"
   ]
  },
  {
   "cell_type": "code",
   "execution_count": 30,
   "id": "12689c25-4852-4f9a-9c60-9cf674a3e67b",
   "metadata": {},
   "outputs": [],
   "source": [
    "def test6(list):\n",
    "    n = []\n",
    "    for i in list:\n",
    "        if type(i)==int or type(i)==float:\n",
    "            n.append(i)\n",
    "    return n"
   ]
  },
  {
   "cell_type": "code",
   "execution_count": 31,
   "id": "10332953-6144-4228-9550-b72469693b17",
   "metadata": {},
   "outputs": [
    {
     "data": {
      "text/plain": [
       "[1, 23, 4334, 42, 34, 2]"
      ]
     },
     "execution_count": 31,
     "metadata": {},
     "output_type": "execute_result"
    }
   ],
   "source": [
    "test6(l)"
   ]
  },
  {
   "cell_type": "code",
   "execution_count": 2,
   "id": "efa0297d-5468-4dbb-8d6f-aa6f4cfe41b3",
   "metadata": {},
   "outputs": [],
   "source": [
    "def test6(*args):\n",
    "    return args"
   ]
  },
  {
   "cell_type": "code",
   "execution_count": 3,
   "id": "698c138e-842a-4c85-a7cf-39227a7771c1",
   "metadata": {},
   "outputs": [
    {
     "data": {
      "text/plain": [
       "(1, 2, 3, 45, 3)"
      ]
     },
     "execution_count": 3,
     "metadata": {},
     "output_type": "execute_result"
    }
   ],
   "source": [
    "test6(1,2,3,45,3)"
   ]
  },
  {
   "cell_type": "code",
   "execution_count": 4,
   "id": "34e85b07-add3-42a9-af19-ff9396ddcd61",
   "metadata": {},
   "outputs": [
    {
     "data": {
      "text/plain": [
       "('abhinav', 1, 2, 3, 4, 5, 6, 7, (1, 2), [1, 23])"
      ]
     },
     "execution_count": 4,
     "metadata": {},
     "output_type": "execute_result"
    }
   ],
   "source": [
    "test6(\"abhinav\",1,2,3,4,5,6,7,(1,2),[1,23])"
   ]
  },
  {
   "cell_type": "code",
   "execution_count": null,
   "id": "eb09eb1a-87c5-4a29-8a6b-95dddcfc9505",
   "metadata": {},
   "outputs": [],
   "source": []
  }
 ],
 "metadata": {
  "kernelspec": {
   "display_name": "Python 3 (ipykernel)",
   "language": "python",
   "name": "python3"
  },
  "language_info": {
   "codemirror_mode": {
    "name": "ipython",
    "version": 3
   },
   "file_extension": ".py",
   "mimetype": "text/x-python",
   "name": "python",
   "nbconvert_exporter": "python",
   "pygments_lexer": "ipython3",
   "version": "3.8.2"
  }
 },
 "nbformat": 4,
 "nbformat_minor": 5
}
