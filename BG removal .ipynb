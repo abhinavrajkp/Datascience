{
 "cells": [
  {
   "cell_type": "code",
   "execution_count": 4,
   "id": "c0894f9d-9d96-44db-83e3-e9b23205773a",
   "metadata": {},
   "outputs": [],
   "source": [
    "# pip3 install rembg"
   ]
  },
  {
   "cell_type": "code",
   "execution_count": 1,
   "id": "ab341cc9-4397-4b96-a0a7-0f5b67b7eba5",
   "metadata": {},
   "outputs": [
    {
     "name": "stderr",
     "output_type": "stream",
     "text": [
      "Downloading data from 'https://github.com/danielgatis/rembg/releases/download/v0.0.0/u2net.onnx' to file '/Users/macbook/.u2net/u2net.onnx'.\n",
      "100%|████████████████████████████████████████| 176M/176M [00:00<00:00, 153GB/s]\n"
     ]
    }
   ],
   "source": [
    "from rembg import remove\n",
    "input_path = 'input_image.jpg'\n",
    "output_path = 'output_image.jpg'\n",
    "\n",
    "with open(input_path, 'rb') as i:\n",
    "    with open(output_path, 'wb') as o:\n",
    "        input = i.read()\n",
    "        output = remove(input)\n",
    "        o.write(output)"
   ]
  },
  {
   "cell_type": "code",
   "execution_count": 3,
   "id": "006c4f69-702f-4d0e-89ce-f4dc338ef554",
   "metadata": {},
   "outputs": [],
   "source": [
    "input_path = '1.jpg'\n",
    "output_path = '1_out.png'\n",
    "\n",
    "with open(input_path, 'rb') as i:\n",
    "    with open(output_path, 'wb') as o:\n",
    "        input = i.read()\n",
    "        output = remove(input)\n",
    "        o.write(output)"
   ]
  },
  {
   "cell_type": "code",
   "execution_count": null,
   "id": "ef9e2b66-4e98-49e1-9621-61c0c9d68594",
   "metadata": {},
   "outputs": [],
   "source": []
  }
 ],
 "metadata": {
  "kernelspec": {
   "display_name": "Python 3 (ipykernel)",
   "language": "python",
   "name": "python3"
  },
  "language_info": {
   "codemirror_mode": {
    "name": "ipython",
    "version": 3
   },
   "file_extension": ".py",
   "mimetype": "text/x-python",
   "name": "python",
   "nbconvert_exporter": "python",
   "pygments_lexer": "ipython3",
   "version": "3.8.2"
  }
 },
 "nbformat": 4,
 "nbformat_minor": 5
}
