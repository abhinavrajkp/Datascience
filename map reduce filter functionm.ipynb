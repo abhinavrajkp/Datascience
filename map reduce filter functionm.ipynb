{
 "cells": [
  {
   "cell_type": "code",
   "execution_count": null,
   "id": "d0fdb308-38e8-4fa8-ba1a-088a7107c323",
   "metadata": {},
   "outputs": [],
   "source": []
  },
  {
   "cell_type": "markdown",
   "id": "c8b1e1a2-91f4-420b-b85b-8d90189685f0",
   "metadata": {},
   "source": [
    "## Map Function"
   ]
  },
  {
   "cell_type": "markdown",
   "id": "69d464c4-14c9-4823-a6a9-cfe05a89d1b9",
   "metadata": {},
   "source": [
    "### map reduce filter functions"
   ]
  },
  {
   "cell_type": "code",
   "execution_count": 2,
   "id": "93377f12-4ee6-4d87-8ccc-ce98ee598913",
   "metadata": {},
   "outputs": [],
   "source": [
    "l = [1,2,3,4,5,6,7,8,9]"
   ]
  },
  {
   "cell_type": "code",
   "execution_count": 6,
   "id": "5e856132-b997-4143-87df-d1b3a809d58d",
   "metadata": {},
   "outputs": [],
   "source": [
    "def test1(test):\n",
    "    a =[]\n",
    "    for i in test:\n",
    "        a.append(i*i)\n",
    "    return a"
   ]
  },
  {
   "cell_type": "code",
   "execution_count": 7,
   "id": "976ca239-3f7b-41d4-9382-7afa76399da0",
   "metadata": {},
   "outputs": [
    {
     "data": {
      "text/plain": [
       "[1, 4, 9, 16, 25, 36, 49, 64, 81]"
      ]
     },
     "execution_count": 7,
     "metadata": {},
     "output_type": "execute_result"
    }
   ],
   "source": [
    "test1(l)"
   ]
  },
  {
   "cell_type": "code",
   "execution_count": 11,
   "id": "582e58f1-9feb-4752-b2f9-da67d6ecde7d",
   "metadata": {},
   "outputs": [
    {
     "data": {
      "text/plain": [
       "<map at 0x108dabbb0>"
      ]
     },
     "execution_count": 11,
     "metadata": {},
     "output_type": "execute_result"
    }
   ],
   "source": [
    "def sq(x):\n",
    "    return x**2\n",
    "    \n",
    "map(sq , l)"
   ]
  },
  {
   "cell_type": "code",
   "execution_count": 12,
   "id": "8f59e071-9356-463f-ba6b-39f90cbd0282",
   "metadata": {},
   "outputs": [
    {
     "data": {
      "text/plain": [
       "[1, 4, 9, 16, 25, 36, 49, 64, 81]"
      ]
     },
     "execution_count": 12,
     "metadata": {},
     "output_type": "execute_result"
    }
   ],
   "source": [
    "list(map(sq , l))"
   ]
  },
  {
   "cell_type": "code",
   "execution_count": 14,
   "id": "77241555-8d95-4c2f-bd7e-d790179e87dd",
   "metadata": {},
   "outputs": [
    {
     "data": {
      "text/plain": [
       "[1, 4, 9, 16, 25, 36, 49, 64, 81]"
      ]
     },
     "execution_count": 14,
     "metadata": {},
     "output_type": "execute_result"
    }
   ],
   "source": [
    "list(map(lambda x: x*x , l))"
   ]
  },
  {
   "cell_type": "code",
   "execution_count": 15,
   "id": "a102acad-4e1d-44bd-bcb6-9ee4c55d9163",
   "metadata": {},
   "outputs": [],
   "source": [
    "l1 = [1,2,3,4,5]\n",
    "l2 = [6,7,8,9,10]"
   ]
  },
  {
   "cell_type": "code",
   "execution_count": 17,
   "id": "74c2a42b-5454-4ce8-9913-c8ba385d6ed7",
   "metadata": {},
   "outputs": [
    {
     "data": {
      "text/plain": [
       "[7, 9, 11, 13, 15]"
      ]
     },
     "execution_count": 17,
     "metadata": {},
     "output_type": "execute_result"
    }
   ],
   "source": [
    "list(map(lambda x,y : x+ y ,l1,l2))"
   ]
  },
  {
   "cell_type": "code",
   "execution_count": 18,
   "id": "3662353a-8cbc-4678-8b1b-8b50f285c49a",
   "metadata": {},
   "outputs": [],
   "source": [
    "# REDUCE FUNCTION\n"
   ]
  },
  {
   "cell_type": "code",
   "execution_count": 19,
   "id": "26af8c36-f988-4633-8b84-d879071d5635",
   "metadata": {},
   "outputs": [],
   "source": [
    "from functools import reduce"
   ]
  },
  {
   "cell_type": "code",
   "execution_count": 20,
   "id": "74b551da-2836-499c-b26f-7a2d65a4b76c",
   "metadata": {},
   "outputs": [],
   "source": [
    "l = [1,2,3,4,5,6,7,8,9,67]"
   ]
  },
  {
   "cell_type": "code",
   "execution_count": 21,
   "id": "1e80fe30-4909-4e6d-a627-230cd92b66cc",
   "metadata": {},
   "outputs": [],
   "source": [
    "# what is the sum of the elements in the list l?\n"
   ]
  },
  {
   "cell_type": "code",
   "execution_count": 24,
   "id": "bd6ceb1c-06af-4292-9a62-b91c808044ab",
   "metadata": {},
   "outputs": [],
   "source": [
    "def li_sum(l):\n",
    "    s = 0\n",
    "    for i in l:\n",
    "        s = s + i\n",
    "    return s"
   ]
  },
  {
   "cell_type": "code",
   "execution_count": 25,
   "id": "b8a572b6-2e50-48d6-8419-259823d4da27",
   "metadata": {},
   "outputs": [
    {
     "data": {
      "text/plain": [
       "112"
      ]
     },
     "execution_count": 25,
     "metadata": {},
     "output_type": "execute_result"
    }
   ],
   "source": [
    "li_sum(l)"
   ]
  },
  {
   "cell_type": "code",
   "execution_count": 27,
   "id": "ee94de2e-afb9-444a-b31d-1659ef0163ef",
   "metadata": {},
   "outputs": [
    {
     "data": {
      "text/plain": [
       "112"
      ]
     },
     "execution_count": 27,
     "metadata": {},
     "output_type": "execute_result"
    }
   ],
   "source": [
    "reduce(lambda x,y : x+y , l) # short and simple compared to li_sum function"
   ]
  },
  {
   "cell_type": "code",
   "execution_count": 28,
   "id": "184d0b48-b156-450a-ad14-f465976f8bfe",
   "metadata": {},
   "outputs": [
    {
     "data": {
      "text/plain": [
       "112"
      ]
     },
     "execution_count": 28,
     "metadata": {},
     "output_type": "execute_result"
    }
   ],
   "source": [
    "def add(x,y):\n",
    "    return x+y\n",
    "\n",
    "reduce (add, l)"
   ]
  },
  {
   "cell_type": "code",
   "execution_count": 29,
   "id": "8a625960-fbad-47fa-873f-2a808f274043",
   "metadata": {},
   "outputs": [],
   "source": [
    "# what is the max number in the lsist?\n"
   ]
  },
  {
   "cell_type": "code",
   "execution_count": 30,
   "id": "a4f1e686-8a99-4671-9aae-17a7ebc7a889",
   "metadata": {},
   "outputs": [
    {
     "data": {
      "text/plain": [
       "[1, 2, 3, 4, 5, 6, 7, 8, 9, 67]"
      ]
     },
     "execution_count": 30,
     "metadata": {},
     "output_type": "execute_result"
    }
   ],
   "source": [
    "l"
   ]
  },
  {
   "cell_type": "code",
   "execution_count": 31,
   "id": "595e1219-255f-480e-be43-7ef6c1d94a36",
   "metadata": {},
   "outputs": [
    {
     "data": {
      "text/plain": [
       "67"
      ]
     },
     "execution_count": 31,
     "metadata": {},
     "output_type": "execute_result"
    }
   ],
   "source": [
    "reduce ( lambda x,y : x if x > y else y , l)"
   ]
  },
  {
   "cell_type": "markdown",
   "id": "7c9076f5-bf12-4e80-832f-a75f626c5bd9",
   "metadata": {},
   "source": [
    "## Filter function"
   ]
  },
  {
   "cell_type": "code",
   "execution_count": 32,
   "id": "dc5f8ed3-19f3-4ffc-b708-ba617083a1b4",
   "metadata": {},
   "outputs": [],
   "source": [
    "# filter function\n",
    "\n"
   ]
  },
  {
   "cell_type": "code",
   "execution_count": 33,
   "id": "32eb9829-5dce-4c17-ad04-6a14492120b4",
   "metadata": {},
   "outputs": [],
   "source": [
    "# how to filter out only an odd number or even number"
   ]
  },
  {
   "cell_type": "code",
   "execution_count": 46,
   "id": "9306a57d-ddf8-4f70-8c6e-336e17a17234",
   "metadata": {},
   "outputs": [
    {
     "data": {
      "text/plain": [
       "[2, 4, 6, 8]"
      ]
     },
     "execution_count": 46,
     "metadata": {},
     "output_type": "execute_result"
    }
   ],
   "source": [
    "even = list(filter(lambda x : x % 2 == 0 , l)) # evne numbers\n",
    "even"
   ]
  },
  {
   "cell_type": "code",
   "execution_count": null,
   "id": "fef63224-8d00-4bf3-bc86-4872bd842b4b",
   "metadata": {},
   "outputs": [],
   "source": []
  },
  {
   "cell_type": "code",
   "execution_count": 47,
   "id": "933743f2-6f8d-4037-a5a6-3cf757cc6110",
   "metadata": {},
   "outputs": [],
   "source": [
    "l1 = [ -1,-2,-3,-54,3,4,5,-3,22,-533]\n",
    "# filter out negaieve and positieve numbers"
   ]
  },
  {
   "cell_type": "code",
   "execution_count": 48,
   "id": "ab5a2264-96ed-4290-a4b6-3197094344c8",
   "metadata": {},
   "outputs": [
    {
     "data": {
      "text/plain": [
       "[-1, -2, -3, -54, -3, -533]"
      ]
     },
     "execution_count": 48,
     "metadata": {},
     "output_type": "execute_result"
    }
   ],
   "source": [
    "list(filter(lambda x: x<0,l1))"
   ]
  },
  {
   "cell_type": "code",
   "execution_count": 50,
   "id": "a631b442-21a0-496f-9256-9b8beb3aa2cf",
   "metadata": {},
   "outputs": [
    {
     "data": {
      "text/plain": [
       "[3, 4, 5, 22]"
      ]
     },
     "execution_count": 50,
     "metadata": {},
     "output_type": "execute_result"
    }
   ],
   "source": [
    "list(filter(lambda x: x>=0,l1))"
   ]
  },
  {
   "cell_type": "code",
   "execution_count": 51,
   "id": "21152a86-6117-4b5e-a800-c1a71ce94e03",
   "metadata": {},
   "outputs": [],
   "source": [
    "l2 = [\"abhi\", \"krish\", \"sudh\", \"Pwskills\", \"chennai\"]"
   ]
  },
  {
   "cell_type": "code",
   "execution_count": 52,
   "id": "4e947fb6-f3e1-400f-a60c-9691e59d9196",
   "metadata": {},
   "outputs": [
    {
     "data": {
      "text/plain": [
       "['abhi', 'krish', 'sudh']"
      ]
     },
     "execution_count": 52,
     "metadata": {},
     "output_type": "execute_result"
    }
   ],
   "source": [
    "list(filter(lambda x:len(x) <6 , l2))"
   ]
  },
  {
   "cell_type": "code",
   "execution_count": null,
   "id": "26c0b120-41a4-46d4-8fd9-c960f9a653e5",
   "metadata": {},
   "outputs": [],
   "source": []
  }
 ],
 "metadata": {
  "kernelspec": {
   "display_name": "Python 3 (ipykernel)",
   "language": "python",
   "name": "python3"
  },
  "language_info": {
   "codemirror_mode": {
    "name": "ipython",
    "version": 3
   },
   "file_extension": ".py",
   "mimetype": "text/x-python",
   "name": "python",
   "nbconvert_exporter": "python",
   "pygments_lexer": "ipython3",
   "version": "3.8.2"
  }
 },
 "nbformat": 4,
 "nbformat_minor": 5
}
