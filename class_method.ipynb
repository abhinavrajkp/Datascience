{
 "cells": [
  {
   "cell_type": "code",
   "execution_count": 7,
   "id": "cbe13fd8-137f-457d-9a2a-9c09bd92c425",
   "metadata": {},
   "outputs": [],
   "source": [
    "class pwskills:\n",
    "    \n",
    "    def __init__(self, name , email):\n",
    "        self.name = name\n",
    "        self.email = email\n",
    "        \n",
    "    def studnet_details(self):\n",
    "        print(self.name , self.email)\n",
    "        "
   ]
  },
  {
   "cell_type": "code",
   "execution_count": 9,
   "id": "63e50bb1-4177-4bd9-a639-c0b8854bdd8d",
   "metadata": {},
   "outputs": [],
   "source": [
    "pw = pwskills(\"abhinav\", \"abhinav@gmail.com\")"
   ]
  },
  {
   "cell_type": "code",
   "execution_count": 10,
   "id": "57c41a17-b9fe-441e-b0c6-83b2d8a4a8bb",
   "metadata": {},
   "outputs": [
    {
     "data": {
      "text/plain": [
       "'abhinav@gmail.com'"
      ]
     },
     "execution_count": 10,
     "metadata": {},
     "output_type": "execute_result"
    }
   ],
   "source": [
    "pw.email"
   ]
  },
  {
   "cell_type": "code",
   "execution_count": 11,
   "id": "364d1a60-bbc8-4fc8-b7ed-014c05a61296",
   "metadata": {},
   "outputs": [
    {
     "data": {
      "text/plain": [
       "'abhinav'"
      ]
     },
     "execution_count": 11,
     "metadata": {},
     "output_type": "execute_result"
    }
   ],
   "source": [
    "pw.name"
   ]
  },
  {
   "cell_type": "code",
   "execution_count": 13,
   "id": "66d8e1e7-0d9e-4100-be79-ead4ff68c3e4",
   "metadata": {},
   "outputs": [
    {
     "name": "stdout",
     "output_type": "stream",
     "text": [
      "abhinav abhinav@gmail.com\n"
     ]
    }
   ],
   "source": [
    "pw.studnet_details()"
   ]
  },
  {
   "cell_type": "code",
   "execution_count": 19,
   "id": "7c13aa93-c030-41e3-8ecd-006b13e3d60b",
   "metadata": {},
   "outputs": [],
   "source": [
    "class alternatieve:\n",
    "    \n",
    "    def __init__(self, name , email):\n",
    "        self.name = name\n",
    "        self.email = email\n",
    "        \n",
    "    @classmethod    \n",
    "    def details(cls , name_1, email_1):\n",
    "        return cls(name_1, email_1)\n",
    "        \n",
    "    def studnet_details(self):\n",
    "        print(self.name , self.email)\n",
    "        "
   ]
  },
  {
   "cell_type": "code",
   "execution_count": 20,
   "id": "b847b43a-e513-4de5-b25f-e6a58e08588b",
   "metadata": {},
   "outputs": [],
   "source": [
    "alt = alternatieve.details(\"mohan\", \"mohan@gmail.com\")"
   ]
  },
  {
   "cell_type": "code",
   "execution_count": 21,
   "id": "75a13e29-557e-4a94-a5d4-410cb12f4fc1",
   "metadata": {},
   "outputs": [
    {
     "data": {
      "text/plain": [
       "<__main__.alternatieve at 0x107e537c0>"
      ]
     },
     "execution_count": 21,
     "metadata": {},
     "output_type": "execute_result"
    }
   ],
   "source": [
    "alt"
   ]
  },
  {
   "cell_type": "code",
   "execution_count": 22,
   "id": "1eb100e5-51a6-42c1-a944-5f4e2779ad25",
   "metadata": {},
   "outputs": [
    {
     "data": {
      "text/plain": [
       "'mohan'"
      ]
     },
     "execution_count": 22,
     "metadata": {},
     "output_type": "execute_result"
    }
   ],
   "source": [
    "alt.name"
   ]
  },
  {
   "cell_type": "code",
   "execution_count": 23,
   "id": "0cc1d302-6054-4c2d-9911-43dc290e0b46",
   "metadata": {},
   "outputs": [
    {
     "data": {
      "text/plain": [
       "'mohan@gmail.com'"
      ]
     },
     "execution_count": 23,
     "metadata": {},
     "output_type": "execute_result"
    }
   ],
   "source": [
    "alt.email"
   ]
  },
  {
   "cell_type": "code",
   "execution_count": 24,
   "id": "37c0cee7-9750-4b2a-ae1d-0fdf1ada2fac",
   "metadata": {},
   "outputs": [
    {
     "name": "stdout",
     "output_type": "stream",
     "text": [
      "mohan mohan@gmail.com\n"
     ]
    }
   ],
   "source": [
    "alt.studnet_details()"
   ]
  },
  {
   "cell_type": "code",
   "execution_count": 37,
   "id": "81c29252-da36-439e-bbfd-06e9d78b9591",
   "metadata": {},
   "outputs": [],
   "source": [
    "class pwskills2:\n",
    "    \n",
    "    mobile_number = 62656525645\n",
    "    \n",
    "    def __init__(self, name , email):\n",
    "        self.name = name\n",
    "        self.email = email\n",
    "        \n",
    "    @classmethod\n",
    "    def change_number(cls , number):\n",
    "        pwskills2.mobile_number = number\n",
    "        \n",
    "    @classmethod    \n",
    "    def details(cls , name_1, email_1):\n",
    "        return cls(name_1, email_1)\n",
    "        \n",
    "    def studnet_details(self):\n",
    "        print(self.name , self.email, pwskills2.mobile_number)\n",
    "        "
   ]
  },
  {
   "cell_type": "code",
   "execution_count": 26,
   "id": "61644f90-b178-4d03-a4d9-14616672c3ee",
   "metadata": {},
   "outputs": [
    {
     "data": {
      "text/plain": [
       "62656525645"
      ]
     },
     "execution_count": 26,
     "metadata": {},
     "output_type": "execute_result"
    }
   ],
   "source": [
    "pwskills2.mobile_number"
   ]
  },
  {
   "cell_type": "code",
   "execution_count": 30,
   "id": "188fb3de-a24c-4023-8826-f95f3d6c5c39",
   "metadata": {},
   "outputs": [],
   "source": [
    "pw2 = pwskills2.details(\"sohan\", \"sohan@gmail.com\")"
   ]
  },
  {
   "cell_type": "code",
   "execution_count": 32,
   "id": "97d140c4-41d4-407a-b116-0cd2e56f5cd9",
   "metadata": {},
   "outputs": [
    {
     "name": "stdout",
     "output_type": "stream",
     "text": [
      "sohan sohan@gmail.com 62656525645\n"
     ]
    }
   ],
   "source": [
    "pw2.studnet_details()"
   ]
  },
  {
   "cell_type": "code",
   "execution_count": 33,
   "id": "93b39954-0bee-4f25-913d-9ec7e620ba53",
   "metadata": {},
   "outputs": [],
   "source": [
    "pw2_obj = pwskills2(\"rohan\",\"rohan@gmail.com\")"
   ]
  },
  {
   "cell_type": "code",
   "execution_count": 36,
   "id": "4ead113d-8ef4-4d58-94eb-2c074718d09f",
   "metadata": {},
   "outputs": [
    {
     "name": "stdout",
     "output_type": "stream",
     "text": [
      "rohan rohan@gmail.com 62656525645\n"
     ]
    }
   ],
   "source": [
    "pw2_obj.studnet_details()"
   ]
  },
  {
   "cell_type": "code",
   "execution_count": 38,
   "id": "ccf7d615-1534-4246-8a2c-279849d6c72f",
   "metadata": {},
   "outputs": [],
   "source": [
    "pwskills2.change_number(9365645824525)"
   ]
  },
  {
   "cell_type": "code",
   "execution_count": 39,
   "id": "0879480e-5ced-476b-9fe4-4b9fc9c6a5ca",
   "metadata": {},
   "outputs": [
    {
     "data": {
      "text/plain": [
       "9365645824525"
      ]
     },
     "execution_count": 39,
     "metadata": {},
     "output_type": "execute_result"
    }
   ],
   "source": [
    "pwskills2.mobile_number"
   ]
  },
  {
   "cell_type": "code",
   "execution_count": 40,
   "id": "017f1e51-8d60-485b-ab46-56c3b4349f77",
   "metadata": {},
   "outputs": [],
   "source": [
    "# object methods will store any number of data where as a class method will save one instant\n",
    "#of the dat abecause t is directly belongs to a class\n"
   ]
  },
  {
   "cell_type": "code",
   "execution_count": 41,
   "id": "e9920376-ca48-4a01-a9a6-32182adf888a",
   "metadata": {},
   "outputs": [
    {
     "data": {
      "text/plain": [
       "' adding an external funtion to a class'"
      ]
     },
     "execution_count": 41,
     "metadata": {},
     "output_type": "execute_result"
    }
   ],
   "source": [
    "''' adding an external funtion to a class'''"
   ]
  },
  {
   "cell_type": "code",
   "execution_count": 42,
   "id": "e7de08d7-d6be-48dc-b3af-f550c8cb1d27",
   "metadata": {},
   "outputs": [],
   "source": [
    "class pwskills3:\n",
    "    \n",
    "    mobile_number = 62656525645\n",
    "    \n",
    "    def __init__(self, name , email):\n",
    "        self.name = name\n",
    "        self.email = email\n",
    "        \n",
    "    @classmethod\n",
    "    def change_number(cls , number):\n",
    "        pwskills2.mobile_number = number\n",
    "        \n",
    "    @classmethod    \n",
    "    def details(cls , name_1, email_1):\n",
    "        return cls(name_1, email_1)\n",
    "        \n",
    "    def studnet_details(self):\n",
    "        print(self.name , self.email, pwskills2.mobile_number)"
   ]
  },
  {
   "cell_type": "code",
   "execution_count": 47,
   "id": "328e2b83-9ea1-4184-af38-ec8f96e3bf65",
   "metadata": {},
   "outputs": [],
   "source": [
    "def course_details(cls, course_name ):\n",
    "    print(\"Course details :\", course_name)"
   ]
  },
  {
   "cell_type": "code",
   "execution_count": 49,
   "id": "05c671b3-dd4f-4d42-9873-08de9aeef7b2",
   "metadata": {},
   "outputs": [],
   "source": [
    "pwskills3.course_details = classmethod(course_details)"
   ]
  },
  {
   "cell_type": "code",
   "execution_count": 50,
   "id": "b08f9b61-d705-40af-be18-313f5a8ed36d",
   "metadata": {},
   "outputs": [
    {
     "name": "stdout",
     "output_type": "stream",
     "text": [
      "Course details : data science\n"
     ]
    }
   ],
   "source": [
    "pwskills3.course_details(\"data science\")"
   ]
  },
  {
   "cell_type": "code",
   "execution_count": 51,
   "id": "94b93d33-fee4-41b0-94e3-e2b4c71a3839",
   "metadata": {},
   "outputs": [],
   "source": [
    "pw3 = pwskills3(\"raj\", \"raj@gmail.com\")"
   ]
  },
  {
   "cell_type": "code",
   "execution_count": 52,
   "id": "949e7c4c-b230-4384-aa23-e1845642a886",
   "metadata": {},
   "outputs": [
    {
     "name": "stdout",
     "output_type": "stream",
     "text": [
      "Course details : web_dev\n"
     ]
    }
   ],
   "source": [
    "pw3.course_details(\"web_dev\")"
   ]
  },
  {
   "cell_type": "code",
   "execution_count": 53,
   "id": "c7f59a5c-cb8f-47d1-9224-ee34ab500aff",
   "metadata": {},
   "outputs": [
    {
     "name": "stdout",
     "output_type": "stream",
     "text": [
      "raj raj@gmail.com 9365645824525\n"
     ]
    }
   ],
   "source": [
    "pw3.studnet_details()"
   ]
  },
  {
   "cell_type": "code",
   "execution_count": 55,
   "id": "3a1babe7-e3c1-4bcc-ad16-58d450c7749c",
   "metadata": {},
   "outputs": [],
   "source": [
    "# delete some data from a class"
   ]
  },
  {
   "cell_type": "code",
   "execution_count": 56,
   "id": "94ff1135-d534-4506-85f0-2ea407f2719b",
   "metadata": {},
   "outputs": [],
   "source": [
    "class pwskills4:\n",
    "    \n",
    "    mobile_number = 62656525645\n",
    "    \n",
    "    def __init__(self, name , email):\n",
    "        self.name = name\n",
    "        self.email = email\n",
    "        \n",
    "    @classmethod\n",
    "    def change_number(cls , number):\n",
    "        pwskills2.mobile_number = number\n",
    "        \n",
    "    @classmethod    \n",
    "    def details(cls , name_1, email_1):\n",
    "        return cls(name_1, email_1)\n",
    "        \n",
    "    def studnet_details(self):\n",
    "        print(self.name , self.email, pwskills2.mobile_number)"
   ]
  },
  {
   "cell_type": "code",
   "execution_count": 57,
   "id": "78f2741f-05a8-4826-a925-014b1017da61",
   "metadata": {},
   "outputs": [],
   "source": [
    "del pwskills4.change_number"
   ]
  },
  {
   "cell_type": "code",
   "execution_count": 59,
   "id": "5d66f6e2-4a0b-472b-b17c-461f800fe4d1",
   "metadata": {},
   "outputs": [
    {
     "ename": "AttributeError",
     "evalue": "type object 'pwskills4' has no attribute 'change_number'",
     "output_type": "error",
     "traceback": [
      "\u001b[0;31m---------------------------------------------------------------------------\u001b[0m",
      "\u001b[0;31mAttributeError\u001b[0m                            Traceback (most recent call last)",
      "Cell \u001b[0;32mIn[59], line 1\u001b[0m\n\u001b[0;32m----> 1\u001b[0m \u001b[43mpwskills4\u001b[49m\u001b[38;5;241;43m.\u001b[39;49m\u001b[43mchange_number\u001b[49m(\u001b[38;5;241m65685848\u001b[39m)\n",
      "\u001b[0;31mAttributeError\u001b[0m: type object 'pwskills4' has no attribute 'change_number'"
     ]
    }
   ],
   "source": [
    "pwskills4.change_number(65685848)"
   ]
  },
  {
   "cell_type": "code",
   "execution_count": 61,
   "id": "33a96e69-94a3-4c2d-82a2-3c3dba857ff9",
   "metadata": {},
   "outputs": [],
   "source": [
    "pw4 = pwskills4(\"abh\",\"abhi@gmail.com\")"
   ]
  },
  {
   "cell_type": "code",
   "execution_count": 62,
   "id": "4c32a6b2-d9f0-4d0c-abb8-b4ff717bf1e1",
   "metadata": {},
   "outputs": [
    {
     "name": "stdout",
     "output_type": "stream",
     "text": [
      "abh abhi@gmail.com 9365645824525\n"
     ]
    }
   ],
   "source": [
    "pw4.studnet_details()"
   ]
  },
  {
   "cell_type": "code",
   "execution_count": 63,
   "id": "d18a3424-06cd-4f00-ab55-6b8f4f282cbc",
   "metadata": {},
   "outputs": [],
   "source": [
    "delattr(pwskills4, \"studnet_details\")"
   ]
  },
  {
   "cell_type": "code",
   "execution_count": 64,
   "id": "da1e99bc-691f-438e-8cea-97f37da3a896",
   "metadata": {},
   "outputs": [
    {
     "ename": "AttributeError",
     "evalue": "'pwskills4' object has no attribute 'studnet_details'",
     "output_type": "error",
     "traceback": [
      "\u001b[0;31m---------------------------------------------------------------------------\u001b[0m",
      "\u001b[0;31mAttributeError\u001b[0m                            Traceback (most recent call last)",
      "Cell \u001b[0;32mIn[64], line 1\u001b[0m\n\u001b[0;32m----> 1\u001b[0m \u001b[43mpw4\u001b[49m\u001b[38;5;241;43m.\u001b[39;49m\u001b[43mstudnet_details\u001b[49m()\n",
      "\u001b[0;31mAttributeError\u001b[0m: 'pwskills4' object has no attribute 'studnet_details'"
     ]
    }
   ],
   "source": [
    "pw4.studnet_details()"
   ]
  },
  {
   "cell_type": "code",
   "execution_count": null,
   "id": "023a8a34-7dc6-4298-8516-48761d8ff31d",
   "metadata": {},
   "outputs": [],
   "source": []
  }
 ],
 "metadata": {
  "kernelspec": {
   "display_name": "Python 3 (ipykernel)",
   "language": "python",
   "name": "python3"
  },
  "language_info": {
   "codemirror_mode": {
    "name": "ipython",
    "version": 3
   },
   "file_extension": ".py",
   "mimetype": "text/x-python",
   "name": "python",
   "nbconvert_exporter": "python",
   "pygments_lexer": "ipython3",
   "version": "3.8.2"
  }
 },
 "nbformat": 4,
 "nbformat_minor": 5
}
