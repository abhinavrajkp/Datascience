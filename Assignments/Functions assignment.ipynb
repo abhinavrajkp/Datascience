{
 "cells": [
  {
   "cell_type": "code",
   "execution_count": 1,
   "id": "ee52cef0-b8ae-47c4-b5b1-fb241493a9cd",
   "metadata": {},
   "outputs": [],
   "source": [
    "# Which keyword is used to create a user defined function? create a function which return a list of \n",
    "# odd numbers in the range of 1 to 25"
   ]
  },
  {
   "cell_type": "code",
   "execution_count": 11,
   "id": "6deedef9-4948-41da-a2ae-45668ff32b3d",
   "metadata": {},
   "outputs": [
    {
     "name": "stdout",
     "output_type": "stream",
     "text": [
      "[1, 3, 5, 7, 9, 11, 13, 15, 17, 19, 21, 23, 25]\n"
     ]
    }
   ],
   "source": [
    "# def key is used to create user defined functions\n",
    "\n",
    "l=[]\n",
    "for i in range(1,26):\n",
    "    if i % 2 != 0:\n",
    "        l.append(i)\n",
    "print(l)"
   ]
  },
  {
   "cell_type": "code",
   "execution_count": 12,
   "id": "33a47249-e829-46eb-a6c7-20add89f5fe7",
   "metadata": {},
   "outputs": [],
   "source": [
    "# Why *args and **kwargs is used in some functions? Create a function each for *args and **kwargs to \n",
    "# demonstrate their use"
   ]
  },
  {
   "cell_type": "code",
   "execution_count": 15,
   "id": "9be201bc-577f-4def-81d5-1620b66c2eca",
   "metadata": {},
   "outputs": [],
   "source": [
    "# *args are used in functions when the number of arguments to a function is varialbe and **kwargs (kwargs and args are not keywords)\n",
    "#are used when we need to add n number of key value pairs\n",
    "\n",
    "def shopping_list(*args):  # shoppin list will include n number of items\n",
    "    return args\n",
    "\n",
    "def price(**items):\n",
    "    return items"
   ]
  },
  {
   "cell_type": "code",
   "execution_count": 14,
   "id": "e0f8ce25-ba9a-4a8d-97a7-d109e4950f9e",
   "metadata": {},
   "outputs": [
    {
     "data": {
      "text/plain": [
       "('vegitables', 'detol', 'washing poweder', 1, 2, 3, ['munch', 'kitkat'])"
      ]
     },
     "execution_count": 14,
     "metadata": {},
     "output_type": "execute_result"
    }
   ],
   "source": [
    "shopping_list('vegitables', 'detol','washing poweder', 1,2,3,['munch','kitkat']) "
   ]
  },
  {
   "cell_type": "code",
   "execution_count": 25,
   "id": "bb14fbdb-c91d-495c-bef7-d30829baa347",
   "metadata": {},
   "outputs": [],
   "source": [
    "p = price(a=2,banana=34,c=23,d=89)"
   ]
  },
  {
   "cell_type": "code",
   "execution_count": 29,
   "id": "5e38c9a6-659f-4c5b-8a9c-f172e9741b87",
   "metadata": {},
   "outputs": [
    {
     "data": {
      "text/plain": [
       "dict"
      ]
     },
     "execution_count": 29,
     "metadata": {},
     "output_type": "execute_result"
    }
   ],
   "source": [
    "type(p)"
   ]
  },
  {
   "cell_type": "code",
   "execution_count": 30,
   "id": "80cfc259-cf83-4542-98dd-6a3f89317d61",
   "metadata": {},
   "outputs": [
    {
     "data": {
      "text/plain": [
       "dict_values([2, 34, 23, 89])"
      ]
     },
     "execution_count": 30,
     "metadata": {},
     "output_type": "execute_result"
    }
   ],
   "source": [
    "p.values()"
   ]
  },
  {
   "cell_type": "code",
   "execution_count": 31,
   "id": "4a6dbe44-f3f2-4f62-8eed-c1c6ad88e68f",
   "metadata": {},
   "outputs": [
    {
     "data": {
      "text/plain": [
       "dict_keys(['a', 'banana', 'c', 'd'])"
      ]
     },
     "execution_count": 31,
     "metadata": {},
     "output_type": "execute_result"
    }
   ],
   "source": [
    "p.keys()"
   ]
  },
  {
   "cell_type": "code",
   "execution_count": 36,
   "id": "e86b2d38-d91e-4f0b-ba9f-36e9cfbaa77f",
   "metadata": {},
   "outputs": [
    {
     "data": {
      "text/plain": [
       "34"
      ]
     },
     "execution_count": 36,
     "metadata": {},
     "output_type": "execute_result"
    }
   ],
   "source": [
    "p['banana'] # price of banana"
   ]
  },
  {
   "cell_type": "code",
   "execution_count": null,
   "id": "ec2b3ddc-644a-4600-8d38-6116e48126f1",
   "metadata": {},
   "outputs": [],
   "source": [
    "#"
   ]
  }
 ],
 "metadata": {
  "kernelspec": {
   "display_name": "Python 3 (ipykernel)",
   "language": "python",
   "name": "python3"
  },
  "language_info": {
   "codemirror_mode": {
    "name": "ipython",
    "version": 3
   },
   "file_extension": ".py",
   "mimetype": "text/x-python",
   "name": "python",
   "nbconvert_exporter": "python",
   "pygments_lexer": "ipython3",
   "version": "3.8.2"
  }
 },
 "nbformat": 4,
 "nbformat_minor": 5
}
