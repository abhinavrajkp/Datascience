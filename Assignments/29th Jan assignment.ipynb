{
 "cells": [
  {
   "cell_type": "markdown",
   "id": "9d0e0915-9cc7-4d6c-82b5-d49efa065499",
   "metadata": {},
   "source": [
    "# Assignmentt 29th January\n"
   ]
  },
  {
   "cell_type": "markdown",
   "id": "8e3e1044-00ac-4a32-97af-c880661220ac",
   "metadata": {},
   "source": [
    "## Questions\n",
    "### 1. Who developed python programming language?\n",
    " ### <font color=\"Green\"> Guido Van Russoum </font>\n",
    "### 2. Which type of programming does python supports? \n",
    "### <font color=\"Green\"> Python is supported both object oriented programming and structured programming </font>\n",
    "### 3. Is python case sensitieve while dealing with identifiers?\n",
    "### <font color=\"Green\"> Yes Python is case sensitieve even dealing with identifiers as well </font>\n",
    "### 4. Extention of python file?\n",
    "### <font color=\"Green\"> .py </font>\n",
    "### 5. Is python code compiled or interpreted?\n",
    "### <font color=\"Green\"> Python is an interpreted langugage. </font>\n",
    "### 6. Name a few blocks of codes used to define in python language\n",
    "### <font color=\"Green\">\n",
    "    for i in range(10):\n",
    "        print(\"i\") </font>\n",
    "### 7. State a character used to give single line comments in Python?\n",
    "### <font color=\"Green\">  #  </font>\n",
    "### 8. Mention function which can be used to find the current version of python we are using in the machine\n",
    "### <font color=\"Green\"> from platform import python_version\n",
    "python_version()  </font>\n",
    "### 9. Python supports the creation of an anonymous function during runtime using a construct called\n",
    "### <font color=\"Green\"> Lambda</font>\n",
    "### 10. What does pip stands for Python?\n",
    "### <font color=\"Green\"> preferred installer program, pip can be used to install, deletel or update python packages with a single line of code </font>\n",
    "### 11. Mention a few built in functions in Python\n",
    "### <font color=\"Green\">  Print, def, set, pop, del, clear, add, True, False, max, min, tuple, list, array, for, while, if </font>\n",
    "### 12. What is the maximum possible length of an identifier in Python?\n",
    "### <font color=\"Green\">  79 </font>\n",
    "### 13. What are the benefits of using python?\n",
    "### <font color=\"Green\"> Data science.\n",
    "Scientific and mathematical computing.\n",
    "Web development.\n",
    "Finance and trading.\n",
    "System automation and administration.\n",
    "Computer graphics.\n",
    "Basic game development.\n",
    "Security and penetration testing. </font>\n",
    "### 14. How is memory managed in Python?\n",
    "### <font color=\"Green\"> In Python, memory management is done automatically using a garbage collector that recycles unused memory space. The Python interpreter tracks objects in memory and frees them when they are no longer being used. The programmer does not need to manage memory manually. </font>\n",
    "### 15. How to install python on windows and set path variables\n",
    "### <font color=\"Green\"> To install Python on Windows and set path variables, follow these steps:\n",
    "\n",
    "<ul> Download the latest version of Python from the official website: https://www.python.org/downloads/ </ul>\n",
    "    <ul>Run the Python installer and follow the instructions to complete the installation process.</ul>\n",
    "\n",
    "<ul>Once the installation is complete, open the Command Prompt and type python to check if the installation was successful and to see the version of Python installed.</ul>\n",
    "\n",
    "<ul>To set the path variable, go to the Start menu, type \"Environment Variables\" in the search box, and select \"Edit the system environment variables\".</ul>\n",
    "\n",
    "<ul>In the System Properties window, select the \"Environment Variables\" button.</ul>\n",
    "\n",
    "<ul>Under System Variables, scroll down to find the \"Path\" variable and select it, then click \"Edit\".</ul>\n",
    "\n",
    "<ul>Add the path to the Python executable to the end of the current value (e.g. C:\\Python38\\ or C:\\Python38\\Scripts\\).</ul>\n",
    "\n",
    "<ul>Restart the Command Prompt and type python to confirm that the path variable has been set correctly.</ul>\n",
    "\n",
    "This will allow you to run Python from any directory in the Command Prompt by simply typing python.\n",
    "\n",
    " </font>\n",
    "### 16. Is indentation required in Python?\n",
    "\n",
    "### <font color=\"Green\">Yes it is required in Python</font>\n"
   ]
  },
  {
   "cell_type": "code",
   "execution_count": null,
   "id": "9b57e943-da3a-4347-8fe8-033361e8f164",
   "metadata": {},
   "outputs": [],
   "source": []
  }
 ],
 "metadata": {
  "kernelspec": {
   "display_name": "Python 3 (ipykernel)",
   "language": "python",
   "name": "python3"
  },
  "language_info": {
   "codemirror_mode": {
    "name": "ipython",
    "version": 3
   },
   "file_extension": ".py",
   "mimetype": "text/x-python",
   "name": "python",
   "nbconvert_exporter": "python",
   "pygments_lexer": "ipython3",
   "version": "3.8.2"
  }
 },
 "nbformat": 4,
 "nbformat_minor": 5
}
