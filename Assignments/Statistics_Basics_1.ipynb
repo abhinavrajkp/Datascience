{
 "cells": [
  {
   "cell_type": "markdown",
   "id": "cb4aff7a-f22a-40b7-b2ce-fc3b083d3a96",
   "metadata": {},
   "source": [
    "### 1) What is statisctics?"
   ]
  },
  {
   "cell_type": "markdown",
   "id": "de897523-a445-4833-9a92-bceef5e87ce4",
   "metadata": {},
   "source": [
    "<font color =\"green\"><b> Ans :</b> </font> <i>Statistics is the science of collecting, organizing and analysing the data</i>"
   ]
  },
  {
   "cell_type": "markdown",
   "id": "93565dc8-1e36-4b4e-857c-e5b1f873f29e",
   "metadata": {},
   "source": [
    "### 2) Define the different types of staticstics and give examples for each of these types"
   ]
  },
  {
   "cell_type": "markdown",
   "id": "6014dd20-ed50-47ae-b07a-db33c13484e0",
   "metadata": {},
   "source": [
    "<font color = \"green\"> <b> Ans : </b></font> <i>There are two types of statics are there.</i>\n",
    "\n",
    "1) Descriptive Statistics\n",
    "Descriptive statistics involves the collection, analysis, and interpretation of data to describe and summarize data. It includes measures such as mean, meadian, mode, range, standard deviation, variance, percentile, frequency distribution, and graphical representation of data\n",
    "    \n",
    "Eg: Suppose we have a data set of students heights in a class of 50. Then\n",
    "We can as the questions like what is the average height of the class, what is common height of the class, what is the percentage of people having height above 180 etc.\n",
    "    \n",
    "2) Inferential Statistics\n",
    "Inferential staticstc involves the use of sample data to make inferences or preditions about a population. It includes techniques such as hypothesis testing, confidance intervels, regression analysis , analysis of variance (ANOVA) and chi-square test\n",
    "    \n",
    "Eg: If we take the same data set we used above and ask questions like what is the average height of the students in the entire school? etc \n",
    "Eg 2: Exit polls are great examples for inferential statistics. where agencies take sample data from different group of people and predict the winner.\n",
    "    "
   ]
  },
  {
   "cell_type": "markdown",
   "id": "d771e933-aec3-4246-aaff-f4c68ca846f5",
   "metadata": {},
   "source": [
    "### 3) What are different types of data and how do they differ from each other? Provide example for each type of data"
   ]
  },
  {
   "cell_type": "markdown",
   "id": "4ee104b5-82a9-4cf7-b46e-f3bc656aeaba",
   "metadata": {},
   "source": [
    "<font color = \"green\"> <b> Ans : </b></font> If we broadly clasify data it will fall into two groups that is quantitatieve and qualitatieve data. The quantitatieve data can be divided into further discreate and continuous. Where as qualitatieve data can be divided into nominal and ordinal.\n",
    "\n",
    "Quantitatieve = Numerical data\n",
    "Qualitatieve = Categorical data\n",
    "\n",
    "Discreate = Whole numbers like age of person, No of children in a family\n",
    "Continuous = any number like height of students weight of teachers etc\n",
    "Nominal = This categorical data will only applied with data which we cannot make any rank or order like gender( male , female or transgender we can not say male is superiour than transgender or vis a vis)\n",
    "Ordinal= this data we can use rank or order. Like a feedback as good, satisfactory bad here we can assign good as rank 1 and satisfactory as rank2 and bad as rank 3"
   ]
  },
  {
   "cell_type": "markdown",
   "id": "0bff3549-f0b1-46f0-85fe-73877308a126",
   "metadata": {},
   "source": [
    "### 4) Categorize the following data set into qualitative and quantitatieve data \n",
    "i ) Grading in exams A+, A, B+ , B, C+, C, D+, D\n",
    "ii) Color of mangoes red, orange, yellow , green\n",
    "iii) Height data of a class\n",
    "iv) Number of mangoes expected from a farm"
   ]
  },
  {
   "cell_type": "markdown",
   "id": "1d971521-b3f2-4faf-924e-9d2cbb5fba75",
   "metadata": {},
   "source": [
    "<font color = \"green\"> <b> Ans : </b></font> \n",
    "i) Ordinal\n",
    "ii) Nominal\n",
    "iii) Continuous\n",
    "iv) Discreat"
   ]
  },
  {
   "cell_type": "markdown",
   "id": "a8d4bf2a-224c-4bbd-98a0-d384789b4895",
   "metadata": {},
   "source": [
    "### 5)Explain the concept of levels of measurement and give an example of a variable for each level"
   ]
  },
  {
   "cell_type": "markdown",
   "id": "8e6499f7-3cba-4bdf-8e23-33e0d92ca715",
   "metadata": {},
   "source": [
    "<font color = \"green\"> <b> Ans : </b></font> Levels of measurement refer to the different types of data that can be collected in a study, which determine the statistical analyses that can be used. There are four levels of measurement: nominal, ordinal, interval, and ratio.\n",
    "1. Nominal level: This level of measurement is the lowest level, and it is used for categorical data that can be grouped into distinct categories but cannot be ordered. Examples of nominal variables include gender, race, and political party affiliation.\n",
    "2. Ordinal level: This level of measurement is used for data that can be ranked or ordered, but the differences between the values are not equal. Examples of ordinal variables include ratings of satisfaction (e.g., very satisfied, somewhat satisfied, neutral, somewhat dissatisfied, very dissatisfied) and levels of education (e.g., high school, some college, bachelor's degree, graduate degree).\n",
    "3. Interval level: This level of measurement is used for data that can be ranked and the differences between the values are equal, but there is no true zero point. Examples of interval variables include temperature (measured in Celsius or Fahrenheit) and standardized test scores.\n",
    "4. Ratio level: This level of measurement is used for data that can be ranked, the differences between the values are equal, and there is a true zero point. Examples of ratio variables include weight, height, and income."
   ]
  },
  {
   "cell_type": "markdown",
   "id": "18f35623-5c2f-4d26-81b4-c2d450f90d41",
   "metadata": {},
   "source": [
    "### 6) Why is it important to understand the level of measurement when analyzing data? Provide an example to illustrate your answer"
   ]
  },
  {
   "cell_type": "markdown",
   "id": "2d59df7a-f577-4699-8f46-77097a2c5db8",
   "metadata": {},
   "source": [
    "<font color = \"green\"> <b> Ans : </b></font> An example to illustrate the importance of understanding the level of measurement would be in the analysis of customer satisfaction ratings for a product. Suppose a company wants to analyze customer satisfaction ratings for a new product on a scale from 1 to 5, where 1 is \"very dissatisfied\" and 5 is \"very satisfied.\" If the data is nominal, the company would be limited to using simple frequency counts or measures of central tendency such as mode to describe the data. However, if the data is ordinal, the company can use additional measures such as median or percentile to analyze the data. If the data is interval or ratio, the company can use more advanced statistical methods such as regression analysis or correlation analysis to identify factors that are associated with high or low customer satisfaction ratings. Therefore, understanding the level of measurement is crucial for appropriate data analysis and choosing the correct statistical method to use."
   ]
  },
  {
   "cell_type": "markdown",
   "id": "d75d9516-996d-4949-b000-16dec420532c",
   "metadata": {},
   "source": [
    "### 7) How nominal data type is differ from ordinal data type?"
   ]
  },
  {
   "cell_type": "markdown",
   "id": "8b56cf53-a7cb-4649-879f-950ba59a1712",
   "metadata": {},
   "source": [
    "<font color = \"green\"> <b> Ans : </b></font> nominal data represents categorical variables that have no inherent order or numerical value, while ordinal data represents categorical variables that have an inherent order or ranking, but the difference between categories is not necessarily equal."
   ]
  },
  {
   "cell_type": "markdown",
   "id": "e78d0d0c-c632-4d8b-81d3-b4490c46f4c1",
   "metadata": {},
   "source": [
    "### 8) Which type of plot can be used to display data in terms of range?"
   ]
  },
  {
   "cell_type": "markdown",
   "id": "b3d9c2d4-2feb-4218-9477-88269ac4d85a",
   "metadata": {},
   "source": [
    "<font color = \"green\"> <b> Ans : </b></font>  a box plot is a useful way to display data in terms of range because it provides a clear and concise summary of the distribution of data and can quickly reveal important features of the data such as skewness, variability, and outliers."
   ]
  },
  {
   "cell_type": "markdown",
   "id": "f3041ff4-9f05-4b80-838a-87b2bdee9345",
   "metadata": {},
   "source": [
    "### 9) Describe the difference betweem discriptive and inferential statistics. Give an example of each type of statistics and how they are used"
   ]
  },
  {
   "cell_type": "markdown",
   "id": "205260f8-b948-496d-924e-98ea2e6f6ffb",
   "metadata": {},
   "source": [
    "<font color = \"green\"> <b> Ans : </b></font> descriptive statistics are used to summarize and describe the main features of a set of data, while inferential statistics are used to draw conclusions and make generalizations about a larger population based on a sample of data."
   ]
  },
  {
   "cell_type": "markdown",
   "id": "11748b69-0e83-4865-b064-0630ee2c7502",
   "metadata": {},
   "source": [
    "### 10) What are some common measures of central tendency and variability used in statistics? Explain how each measures can be used to describe a dataset"
   ]
  },
  {
   "cell_type": "markdown",
   "id": "e752a57a-b922-4f7d-9c9e-f45a5e40f93e",
   "metadata": {},
   "source": [
    "<font color = \"green\"> <b> Ans : </b></font> Measures of central tendency and variability are commonly used in statistics to describe the characteristics of a dataset. The most common measures of central tendency are the mean, median, and mode, while the most common measures of variability are the range, standard deviation, and variance.\n",
    "\n",
    "Mean: The mean is the arithmetic average of a set of numbers. It is calculated by adding all the values in a dataset and dividing by the total number of values. The mean is often used to describe the typical value in a dataset. For example, the mean salary of a group of employees can be used to describe the typical salary in that group.\n",
    "\n",
    "Median: The median is the middle value in a dataset when the values are arranged in order. If the dataset has an odd number of values, the median is the middle value. If the dataset has an even number of values, the median is the average of the two middle values. The median is often used when the dataset contains outliers or extreme values that can skew the mean. For example, the median income of a group of people can be used to describe the income level of the typical person in that group, even if there are some very high or very low incomes.\n",
    "\n",
    "Mode: The mode is the most common value in a dataset. It is the value that appears most frequently. The mode is often used when describing categorical data or data that can be grouped into categories. For example, the mode of a group of survey responses might be the most common answer to a particular question.\n",
    "\n",
    "Range: The range is the difference between the highest and lowest values in a dataset. It provides a measure of the spread or variability of the data. For example, the range of test scores for a group of students can provide an indication of how much variability there is in the performance of the students.\n",
    "\n",
    "Standard deviation: The standard deviation is a measure of the spread or variability of a set of data. It is calculated by taking the square root of the variance, which is the average of the squared differences from the mean. The standard deviation is often used to describe the distribution of a dataset and to make inferences about the population from which the data were sampled. For example, the standard deviation of the heights of a group of people can provide information about how much variability there is in the height of people in the population.\n",
    "\n",
    "Variance: The variance is a measure of the spread or variability of a set of data. It is the average of the squared differences from the mean. The variance is often used to describe the distribution of a dataset and to make inferences about the population from which the data were sampled. For example, the variance of the weights of a group of animals can provide information about how much variability there is in the weight of animals in the population."
   ]
  },
  {
   "cell_type": "markdown",
   "id": "baa16622-f7fe-49e3-bc6c-43305a786854",
   "metadata": {},
   "source": []
  },
  {
   "cell_type": "markdown",
   "id": "47f1fea1-615b-40b9-9c4f-6be05d0a344b",
   "metadata": {},
   "source": []
  },
  {
   "cell_type": "markdown",
   "id": "db28c0f9-c4d5-4300-9095-7de26d9c1919",
   "metadata": {},
   "source": []
  },
  {
   "cell_type": "markdown",
   "id": "5ac91029-6fd7-4714-b236-b68a1390ec29",
   "metadata": {},
   "source": []
  },
  {
   "cell_type": "markdown",
   "id": "5e8f5bd5-e250-4506-86b2-213ba54e4b5d",
   "metadata": {},
   "source": []
  },
  {
   "cell_type": "markdown",
   "id": "6485b046-f446-4766-86ab-a16381b83809",
   "metadata": {},
   "source": []
  },
  {
   "cell_type": "markdown",
   "id": "cb84edec-dae3-4768-a46e-ee34c94aee24",
   "metadata": {},
   "source": []
  },
  {
   "cell_type": "markdown",
   "id": "48659219-1e26-439d-a43c-7d97b5504eba",
   "metadata": {},
   "source": []
  },
  {
   "cell_type": "markdown",
   "id": "f2ec47c1-6835-4073-bfc9-a14bd8b36ede",
   "metadata": {},
   "source": []
  },
  {
   "cell_type": "code",
   "execution_count": null,
   "id": "44e536e3-ebf5-4566-8865-795934facfb1",
   "metadata": {},
   "outputs": [],
   "source": []
  }
 ],
 "metadata": {
  "kernelspec": {
   "display_name": "Python 3 (ipykernel)",
   "language": "python",
   "name": "python3"
  },
  "language_info": {
   "codemirror_mode": {
    "name": "ipython",
    "version": 3
   },
   "file_extension": ".py",
   "mimetype": "text/x-python",
   "name": "python",
   "nbconvert_exporter": "python",
   "pygments_lexer": "ipython3",
   "version": "3.8.2"
  }
 },
 "nbformat": 4,
 "nbformat_minor": 5
}
